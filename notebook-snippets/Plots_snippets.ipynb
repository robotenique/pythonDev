{
 "cells": [
  {
   "cell_type": "code",
   "execution_count": null,
   "metadata": {
    "ExecuteTime": {
     "end_time": "2022-09-22T12:44:54.183156Z",
     "start_time": "2022-09-22T12:44:54.177727Z"
    }
   },
   "outputs": [],
   "source": [
    "import importlib\n",
    "# If available, will apply style to the plots using jupyterthemes\n",
    "is_jupthemes_available = importlib.util.find_spec(\"jupyterthemes\") is not None\n",
    "# Call this function after '%matplotlib inline'\n",
    "def plot_styling():\n",
    "    if importlib.util.find_spec(\"jupyterthemes\") is not None:\n",
    "        from jupyterthemes import jtplot\n",
    "        jtplot.style(figsize=(15, 8))\n",
    " # Just to show if we actually imported the module\n",
    "print(is_jupthemes_available)"
   ]
  },
  {
   "cell_type": "markdown",
   "metadata": {},
   "source": [
    "### IsolationForest: Anomaly detection visualization"
   ]
  },
  {
   "cell_type": "markdown",
   "metadata": {},
   "source": [
    "Generate sample distribution"
   ]
  },
  {
   "cell_type": "code",
   "execution_count": null,
   "metadata": {
    "ExecuteTime": {
     "end_time": "2022-09-22T12:45:23.525232Z",
     "start_time": "2022-09-22T12:45:17.412799Z"
    },
    "scrolled": false
   },
   "outputs": [],
   "source": [
    "import numpy as np\n",
    "import pandas as pd\n",
    "from sklearn.ensemble import IsolationForest\n",
    "import matplotlib.pyplot as plt\n",
    "%matplotlib inline\n",
    "plot_styling()\n",
    "X = np.concatenate((\n",
    "    np.random.normal(5, 1, 100000),\n",
    "    np.random.normal(15, 1, 100000),\n",
    "    np.random.normal(25, 1, 100000)\n",
    "    )).reshape(-1, 1)\n",
    "print()\n",
    "plt.hist(X, density=True)\n",
    "plt.xlim([0, 30])\n",
    "plt.show()"
   ]
  },
  {
   "cell_type": "markdown",
   "metadata": {},
   "source": [
    "Plot Outlier using fill_between"
   ]
  },
  {
   "cell_type": "code",
   "execution_count": null,
   "metadata": {
    "ExecuteTime": {
     "end_time": "2022-09-22T12:45:23.540117Z",
     "start_time": "2022-09-22T12:45:23.535054Z"
    }
   },
   "outputs": [],
   "source": [
    "X.shape"
   ]
  },
  {
   "cell_type": "code",
   "execution_count": null,
   "metadata": {
    "ExecuteTime": {
     "end_time": "2022-09-22T12:45:27.205804Z",
     "start_time": "2022-09-22T12:45:23.551030Z"
    }
   },
   "outputs": [],
   "source": [
    "xx = np.linspace(0, 35, 100).reshape(-1,1)\n",
    "# Train anomaly detection model\n",
    "model = IsolationForest(random_state=1, n_jobs=-1, behaviour=\"new\", contamination=\"auto\")\n",
    "%timeit model.fit(X)\n",
    "anomaly_score = model.decision_function(xx)\n",
    "outlier = model.predict(xx)\n",
    "plt.plot(xx, anomaly_score, label='anomaly score')\n",
    "plt.fill_between(xx.T[0], np.min(anomaly_score), np.max(anomaly_score), \n",
    "                 where=outlier==-1, color='r', \n",
    "                 alpha=.4, label='outlier region')\n",
    "plt.legend()\n",
    "plt.ylabel('anomaly score')\n",
    "plt.xlabel('x')\n",
    "plt.xlim([0, 35])\n",
    "plt.show()\n"
   ]
  },
  {
   "cell_type": "markdown",
   "metadata": {},
   "source": [
    "### Seaborn legends"
   ]
  },
  {
   "cell_type": "code",
   "execution_count": null,
   "metadata": {
    "ExecuteTime": {
     "end_time": "2022-09-22T12:45:32.569228Z",
     "start_time": "2022-09-22T12:45:32.448740Z"
    }
   },
   "outputs": [],
   "source": [
    "import seaborn as sns\n",
    "sns.set()\n",
    "import matplotlib.pyplot as plt\n",
    "\n",
    "# Graphics in SVG format are more sharp and legible\n",
    "%config InlineBackend.figure_format = 'svg' \n",
    "\n",
    "# Increase the default plot size and set the color scheme\n",
    "plt.rcParams['figure.figsize'] = 8, 5\n",
    "plt.rcParams['image.cmap'] = 'viridis'\n",
    "plot_styling()\n",
    "import pandas as pd\n",
    "import numpy as np"
   ]
  },
  {
   "cell_type": "code",
   "execution_count": null,
   "metadata": {
    "ExecuteTime": {
     "end_time": "2022-09-22T12:45:34.557112Z",
     "start_time": "2022-09-22T12:45:33.740908Z"
    },
    "scrolled": false
   },
   "outputs": [],
   "source": [
    "df1 = pd.DataFrame({\n",
    "    \"x1\": np.repeat(np.arange(0, 101, 10), 5),\n",
    "    \"y1\": np.random.normal(size=(55))*3 + 1\n",
    "})\n",
    "\n",
    "\n",
    "df2 = pd.DataFrame({\n",
    "    \"x2\": np.repeat(np.arange(0, 101, 10), 5),\n",
    "    \"y2\": np.random.normal(size=(55))*3 + 10\n",
    "})\n",
    "\n",
    "df3 = pd.DataFrame({\n",
    "    \"x3\": np.arange(0, 10),\n",
    "    \"y3\": 3 + np.arange(0, 10)*1/2\n",
    "})\n",
    "\n",
    "fig, ax = plt.subplots(figsize=(10, 7))\n",
    "sns.pointplot(x=\"x1\", y=\"y1\", data=df1, marker=\"o\", color=\"r\", ax=ax)\n",
    "sns.pointplot(x=\"x2\", y=\"y2\", data=df2, marker=\"o\", color=\"b\", ax=ax)\n",
    "sns.regplot(x=\"x3\", y=\"y3\", data=df3, marker=\"\", color=\"g\", ax=ax)\n",
    "\n",
    "# Add legends\n",
    "ax.legend(labels=['foo', 'bar', 'sad'], loc=1)\n",
    "leg = ax.get_legend()\n",
    "leg.legendHandles[0].set_color('r')\n",
    "leg.legendHandles[1].set_color('b')\n",
    "leg.legendHandles[2].set_color('g')\n"
   ]
  },
  {
   "cell_type": "markdown",
   "metadata": {},
   "source": [
    "###  A good definition of plots palette"
   ]
  },
  {
   "cell_type": "code",
   "execution_count": null,
   "metadata": {
    "ExecuteTime": {
     "end_time": "2022-09-22T12:45:38.773826Z",
     "start_time": "2022-09-22T12:45:38.648748Z"
    }
   },
   "outputs": [],
   "source": [
    "import toolz as fp\n",
    "import pandas as pd\n",
    "import numpy as np\n",
    "import seaborn as sns\n",
    "import matplotlib.pyplot as plt\n",
    "sns.set()\n",
    "%matplotlib inline\n",
    "%config InlineBackend.figure_format = 'svg'\n",
    "pd.set_option('display.max_rows', 50)\n",
    "palette = sns.hls_palette(8, h=.7, s=.9, l=0.5)\n",
    "sns.palplot(palette)\n",
    "sns.set_palette(palette)\n",
    "\n",
    "gray = \"444444\"\n",
    "\n",
    "plt.rcParams['figure.facecolor'] = '1'  # background color\n",
    "plt.rcParams['axes.facecolor'] = '1'  # plot background color\n",
    "\n",
    "plt.rcParams['grid.color'] = '0.8'\n",
    "plt.rcParams['grid.alpha'] = .4\n",
    "\n",
    "plt.rcParams['axes.edgecolor'] = '1'\n",
    "\n",
    "plt.rcParams['lines.linewidth'] = 1\n",
    "plt.rcParams['grid.linestyle'] = '-'\n",
    "\n",
    "plt.rcParams['axes.axisbelow'] = True\n",
    "plt.rcParams['axes.labelcolor'] = gray\n",
    "\n",
    "plt.rcParams['text.color'] = gray\n",
    "\n",
    "plt.rcParams['xtick.color'] = gray\n",
    "plt.rcParams['ytick.color'] = gray\n",
    "sns.set_style(\"whitegrid\")"
   ]
  },
  {
   "cell_type": "code",
   "execution_count": null,
   "metadata": {
    "ExecuteTime": {
     "end_time": "2022-09-22T12:45:40.550586Z",
     "start_time": "2022-09-22T12:45:39.798227Z"
    }
   },
   "outputs": [],
   "source": [
    "df1 = pd.DataFrame({\n",
    "    \"x1\": np.repeat(np.arange(0, 101, 10), 5),\n",
    "    \"y1\": np.random.normal(size=(55))*3 + 1\n",
    "})\n",
    "\n",
    "\n",
    "df2 = pd.DataFrame({\n",
    "    \"x2\": np.repeat(np.arange(0, 101, 10), 5),\n",
    "    \"y2\": np.random.normal(size=(55))*3 + 10\n",
    "})\n",
    "\n",
    "df3 = pd.DataFrame({\n",
    "    \"x3\": np.arange(0, 10),\n",
    "    \"y3\": 3 + np.arange(0, 10)*1/2\n",
    "})\n",
    "\n",
    "fig, ax = plt.subplots(figsize=(10, 7))\n",
    "c_x1, c_x2, c_x3 = sns.color_palette()[0], sns.color_palette()[1], sns.color_palette()[2]\n",
    "sns.pointplot(x=\"x1\", y=\"y1\", data=df1, marker=\"o\", color=c_x1, ax=ax)\n",
    "sns.pointplot(x=\"x2\", y=\"y2\", data=df2, marker=\"o\", color=c_x2, ax=ax)\n",
    "sns.regplot(x=\"x3\", y=\"y3\", data=df3, marker=\"\", color=c_x3, ax=ax)\n",
    "\n",
    "# Add legends\n",
    "ax.legend(labels=['foo', 'bar', 'sad'], loc=1)\n",
    "leg = ax.get_legend()\n",
    "leg.legendHandles[0].set_color(c_x1)\n",
    "leg.legendHandles[1].set_color(c_x2)\n",
    "leg.legendHandles[2].set_color(c_x3)\n"
   ]
  },
  {
   "cell_type": "markdown",
   "metadata": {},
   "source": [
    "### Updating xtick labels for multiples"
   ]
  },
  {
   "cell_type": "code",
   "execution_count": null,
   "metadata": {
    "ExecuteTime": {
     "end_time": "2022-09-22T12:45:44.929943Z",
     "start_time": "2022-09-22T12:45:44.923821Z"
    }
   },
   "outputs": [],
   "source": [
    "def update_pointplot_xlabels(multiple_of=5, rotation=0, ax=None, xticks=True):\n",
    "    \"\"\"update the xlabels and xticks of the axis passed.\n",
    "        with this function, it can plot xticks/labels with different periods, using the\n",
    "        multiple_of parameter\n",
    "    \"\"\"\n",
    "    if ax is None:\n",
    "        ax = plt.gca()\n",
    "    new_labels, new_xticks = [], []\n",
    "    # check if the text of all the labels are empty\n",
    "    if xticks:\n",
    "        # force the draw of the canvas if the labels are empty\n",
    "        if all([label.get_text() == \"\" for label in ax.get_xticklabels()]):\n",
    "            plt.gcf().canvas.draw() \n",
    "        for i, label in enumerate(ax.get_xticklabels()):\n",
    "            if i % multiple_of == 0:\n",
    "                new_labels.append(label)\n",
    "        for i, tick in enumerate(ax.get_xticks()):\n",
    "            if i % multiple_of == 0:\n",
    "                new_xticks.append(tick)\n",
    "        ax.set_xticks(new_xticks)\n",
    "    else:\n",
    "        for i, label in enumerate(ax.get_xticklabels()):\n",
    "            new_labels.append(label if i % multiple_of == 0 else \"\")\n",
    "    ax.set_xticklabels(new_labels, rotation=rotation)\n"
   ]
  },
  {
   "cell_type": "markdown",
   "metadata": {},
   "source": [
    "Without function"
   ]
  },
  {
   "cell_type": "code",
   "execution_count": null,
   "metadata": {
    "ExecuteTime": {
     "end_time": "2022-09-22T12:45:46.820344Z",
     "start_time": "2022-09-22T12:45:46.646576Z"
    }
   },
   "outputs": [],
   "source": [
    "sns.pointplot(x=\"a\", y=\"val\", data=df.assign(val=lambda df: np.random.normal(5, scale=1, size=df.shape[0])))"
   ]
  },
  {
   "cell_type": "markdown",
   "metadata": {},
   "source": [
    "Showing only multiples of 2"
   ]
  },
  {
   "cell_type": "code",
   "execution_count": null,
   "metadata": {
    "ExecuteTime": {
     "end_time": "2020-02-26T21:49:01.277654Z",
     "start_time": "2020-02-26T21:49:01.064985Z"
    }
   },
   "outputs": [],
   "source": [
    "sns.pointplot(x=\"a\", y=\"val\", data=df.assign(val=lambda df: np.random.normal(5, scale=1, size=df.shape[0])))\n",
    "update_pointplot_xlabels(multiple_of=2, ax=plt.gca())"
   ]
  },
  {
   "cell_type": "markdown",
   "metadata": {},
   "source": [
    "### Creating a colorbar for common plots"
   ]
  },
  {
   "cell_type": "markdown",
   "metadata": {},
   "source": [
    "Using legends"
   ]
  },
  {
   "cell_type": "code",
   "execution_count": null,
   "metadata": {
    "ExecuteTime": {
     "end_time": "2022-09-22T12:46:49.078442Z",
     "start_time": "2022-09-22T12:46:47.882384Z"
    }
   },
   "outputs": [],
   "source": [
    "_x, _y, _z = np.array([]), np.array([]), np.array([])\n",
    "for _z_t in [10, 20, 30, 100]:\n",
    "    _x_t = np.linspace(0, 1, 100)\n",
    "    _y_t = np.array(list(map(lambda e: np.sin(e * _z_t), _x_t)))\n",
    "    _x = np.concatenate([_x, _x_t])\n",
    "    _y = np.concatenate([_y, _y_t])\n",
    "    _z = np.concatenate([_z, np.repeat([_z_t], len(_x_t))])\n",
    "list(map(lambda e: e.shape, (_x, _y, _z)))\n",
    "temp_df = pd.DataFrame(dict(x=np.round(_x, 3), y=_y, z=_z))\n",
    "sns.pointplot(x=\"x\", y=\"y\", hue=\"z\", data=temp_df, palette=sns.color_palette(\"cool\", n_colors=len(np.unique(_z))))\n",
    "update_pointplot_xlabels(rotation=45)\n",
    "plt.legend(loc=2)"
   ]
  },
  {
   "cell_type": "markdown",
   "metadata": {},
   "source": [
    "Using a colorbar"
   ]
  },
  {
   "cell_type": "code",
   "execution_count": null,
   "metadata": {
    "ExecuteTime": {
     "end_time": "2022-09-22T12:46:52.760092Z",
     "start_time": "2022-09-22T12:46:51.527422Z"
    }
   },
   "outputs": [],
   "source": [
    "import matplotlib as mpl\n",
    "from matplotlib.colors import ListedColormap\n",
    "sns.pointplot(x=\"x\", y=\"y\", hue=\"z\", data=temp_df, palette=sns.color_palette(\"cool\", n_colors=len(np.unique(_z))))\n",
    "update_pointplot_xlabels(rotation=45)\n",
    "plt.gca().get_legend().remove() # remove traditional legend\n",
    "cmap = ListedColormap(sns.color_palette(\"cool\", n_colors=len(np.unique(_z))))\n",
    "norm = mpl.colors.Normalize(vmin=temp_df.z.min(), vmax=temp_df.z.max())\n",
    "sm = plt.cm.ScalarMappable(cmap=cmap, norm=norm)\n",
    "sm.set_array([])\n",
    "plt.colorbar(sm, ticks=np.linspace(temp_df.z.min(), temp_df.z.max(), 5), ax=plt.gca(), label=\"z\")\n"
   ]
  },
  {
   "cell_type": "markdown",
   "metadata": {},
   "source": [
    "### An even better plots palette: 2022 edition"
   ]
  },
  {
   "cell_type": "code",
   "execution_count": null,
   "metadata": {
    "ExecuteTime": {
     "end_time": "2022-09-22T14:30:39.896533Z",
     "start_time": "2022-09-22T14:30:39.599323Z"
    }
   },
   "outputs": [],
   "source": [
    "import re\n",
    "import gc\n",
    "import os\n",
    "import scipy\n",
    "import contextlib\n",
    "import warnings\n",
    "import urllib.request\n",
    "import pandas as pd\n",
    "import matplotlib.pyplot as plt\n",
    "import matplotlib as mpl\n",
    "import numpy as np\n",
    "import seaborn as sns\n",
    "import toolz as fp\n",
    "\n",
    "# set a custom, much better stylesheet\n",
    "def set_mpl_style():\n",
    "    mpl_stylesheet = \"juliano.mplstyle\"\n",
    "    mpl_url = f\"https://raw.githubusercontent.com/robotenique/pythonDev/master/notebook-snippets/{mpl_stylesheet}\"\n",
    "    with contextlib.suppress(FileNotFoundError):\n",
    "        os.remove(f\"./{mpl_stylesheet}\")\n",
    "    urllib.request.urlretrieve(mpl_url, mpl_stylesheet)\n",
    "    plt.style.use(mpl_stylesheet)\n",
    "\n",
    "\n",
    "# global defs\n",
    "warnings.simplefilter(action=\"ignore\", category=FutureWarning)\n",
    "warnings.simplefilter(action=\"ignore\", category=DeprecationWarning)\n",
    "%matplotlib inline\n",
    "%config InlineBackend.figure_format = 'retina'\n",
    "sns.set_context(\"notebook\", font_scale=1.0)\n",
    "set_mpl_style()\n",
    "palette = plt.rcParams[\"axes.prop_cycle\"].by_key()[\"color\"]\n",
    "sns.set_palette(palette=palette)\n",
    "sns.palplot(palette)"
   ]
  },
  {
   "cell_type": "code",
   "execution_count": null,
   "metadata": {
    "ExecuteTime": {
     "end_time": "2022-09-22T14:31:10.980313Z",
     "start_time": "2022-09-22T14:31:10.046535Z"
    }
   },
   "outputs": [],
   "source": [
    "data = (\n",
    "    sns.load_dataset(\"penguins\")\n",
    "    .dropna(subset=[\"flipper_length_mm\", \"body_mass_g\"])\n",
    "    .assign(flipper_length_mm=lambda df: (df.flipper_length_mm // 5) * 5)\n",
    ")\n",
    "sns.lineplot(x=\"flipper_length_mm\", y=\"body_mass_g\", hue=\"island\", ci=None, data=data)\n",
    "plt.ylabel(\"Body Mass\")\n",
    "plt.xlabel(\"Flipper Length\", horizontalalignment=\"right\", position=(1, 25))\n",
    "plt.title(\"Body mass by length\", y=1.03)\n",
    "ax, fig = plt.gca(), plt.gcf()\n",
    "# Add in title and subtitle\n",
    "ax.text(\n",
    "    x=0.08,\n",
    "    y=0.9,\n",
    "    s=\"Considering different islands\",\n",
    "    transform=fig.transFigure,\n",
    "    ha=\"left\",\n",
    "    fontsize=18,\n",
    "    alpha=0.8,\n",
    ")\n",
    "\n",
    "# Set source text\n",
    "ax.text(\n",
    "    x=0.08,\n",
    "    y=-0.1,\n",
    "    s=\"\"\"Source: Using Penguins dataset (19xx);\n",
    "             Provided by the seaborn library;\n",
    "        \"\"\",\n",
    "    transform=fig.transFigure,\n",
    "    ha=\"left\",\n",
    "    fontsize=9,\n",
    "    alpha=0.7,\n",
    ")"
   ]
  },
  {
   "cell_type": "code",
   "execution_count": null,
   "metadata": {
    "ExecuteTime": {
     "end_time": "2022-09-22T14:31:11.707559Z",
     "start_time": "2022-09-22T14:31:11.023249Z"
    }
   },
   "outputs": [],
   "source": [
    "gg = pd.DataFrame(np.random.random((3, 3)), columns=[\"A\", \"B\", \"C\"])\n",
    "sns.heatmap(gg, square=True);plt.title(\"Heatmap\", y=1.03);plt.xlabel(\"kahdjskla\");plt.ylabel(\"hahaha\")\n",
    "ax, fig = plt.gca(), plt.gcf()\n",
    "ax.text(\n",
    "    x=0.342,\n",
    "    y=0.9,\n",
    "    s=\"yay I'm a subtitle\",\n",
    "    transform=fig.transFigure,\n",
    "    ha=\"left\",\n",
    "    fontsize=16,\n",
    "    alpha=0.8,\n",
    ")\n",
    "ax.text(\n",
    "    x=0.342,\n",
    "    y=-0.1,\n",
    "    s=\"\"\"Source: I am a source text;\n",
    "             Lorem ipsum dolor sit amet, consectetur adipiscing elit. Etiam id orci;\n",
    "        \"\"\",\n",
    "    transform=fig.transFigure,\n",
    "    ha=\"left\",\n",
    "    fontsize=9,\n",
    "    alpha=0.7,\n",
    ")"
   ]
  },
  {
   "cell_type": "markdown",
   "metadata": {},
   "source": [
    "## SANDBOX"
   ]
  },
  {
   "cell_type": "code",
   "execution_count": null,
   "metadata": {},
   "outputs": [],
   "source": []
  }
 ],
 "metadata": {
  "hide_input": false,
  "kernelspec": {
   "display_name": "Python 3 (ipykernel)",
   "language": "python",
   "name": "python3"
  },
  "language_info": {
   "codemirror_mode": {
    "name": "ipython",
    "version": 3
   },
   "file_extension": ".py",
   "mimetype": "text/x-python",
   "name": "python",
   "nbconvert_exporter": "python",
   "pygments_lexer": "ipython3",
   "version": "3.9.16"
  },
  "toc": {
   "base_numbering": 1,
   "nav_menu": {},
   "number_sections": true,
   "sideBar": true,
   "skip_h1_title": false,
   "title_cell": "Table of Contents",
   "title_sidebar": "Contents",
   "toc_cell": false,
   "toc_position": {},
   "toc_section_display": true,
   "toc_window_display": false
  },
  "varInspector": {
   "cols": {
    "lenName": 16,
    "lenType": 16,
    "lenVar": 40
   },
   "kernels_config": {
    "python": {
     "delete_cmd_postfix": "",
     "delete_cmd_prefix": "del ",
     "library": "var_list.py",
     "varRefreshCmd": "print(var_dic_list())"
    },
    "r": {
     "delete_cmd_postfix": ") ",
     "delete_cmd_prefix": "rm(",
     "library": "var_list.r",
     "varRefreshCmd": "cat(var_dic_list()) "
    }
   },
   "types_to_exclude": [
    "module",
    "function",
    "builtin_function_or_method",
    "instance",
    "_Feature"
   ],
   "window_display": false
  }
 },
 "nbformat": 4,
 "nbformat_minor": 2
}
