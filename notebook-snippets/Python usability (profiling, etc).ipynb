{
 "cells": [
  {
   "cell_type": "markdown",
   "metadata": {},
   "source": [
    "### 1. Python - profile a function"
   ]
  },
  {
   "cell_type": "markdown",
   "metadata": {},
   "source": [
    "Define a decorator for a function"
   ]
  },
  {
   "cell_type": "code",
   "execution_count": 1,
   "metadata": {},
   "outputs": [],
   "source": [
    "import cProfile\n",
    "\n",
    "def profileit(filename):\n",
    "    def inner(func):\n",
    "        def wrapper(*args, **kwargs):\n",
    "            prof = cProfile.Profile()\n",
    "            retval = prof.runcall(func, *args, **kwargs)\n",
    "            # Note use of name from outer scope\n",
    "            prof.dump_stats(filename)\n",
    "            return retval\n",
    "        return wrapper\n",
    "    return inner\n"
   ]
  },
  {
   "cell_type": "markdown",
   "metadata": {},
   "source": [
    "Wrap a function with the decorator (it will create a new file for each decorated function)"
   ]
  },
  {
   "cell_type": "code",
   "execution_count": 14,
   "metadata": {},
   "outputs": [],
   "source": [
    "@profileit(\"log_example\")\n",
    "def example(a: int, b: int):\n",
    "    for _ in range(int(b)):\n",
    "        for _ in range(int(b/5)):\n",
    "            t = a\n",
    "# You need to run the function\n",
    "example(0, 1e5)"
   ]
  },
  {
   "cell_type": "markdown",
   "metadata": {},
   "source": [
    "Evaluate the function using pstats"
   ]
  },
  {
   "cell_type": "code",
   "execution_count": 15,
   "metadata": {
    "scrolled": true
   },
   "outputs": [
    {
     "name": "stdout",
     "output_type": "stream",
     "text": [
      "Mon Mar 18 19:29:33 2019    log_example\n",
      "\n",
      "         2 function calls in 61.643 seconds\n",
      "\n",
      "   Ordered by: internal time\n",
      "\n",
      "   ncalls  tottime  percall  cumtime  percall filename:lineno(function)\n",
      "        1   61.643   61.643   61.643   61.643 <ipython-input-14-7ef09a001284>:1(example)\n",
      "        1    0.000    0.000    0.000    0.000 {method 'disable' of '_lsprof.Profiler' objects}\n",
      "\n",
      "\n",
      "\n",
      "\n",
      "\n"
     ]
    }
   ],
   "source": [
    "import pstats\n",
    "def show_prof(file):\n",
    "    p = pstats.Stats(file)\n",
    "    p.sort_stats('tottime').print_stats(10)\n",
    "for file in [\"log_example\"]:\n",
    "    show_prof(file)\n",
    "    print(\"\\n\\n\")\n"
   ]
  },
  {
   "cell_type": "markdown",
   "metadata": {},
   "source": [
    "### 2. Python - profile line by line\n",
    "Ref: https://nesi.github.io/perf-training/python-scatter/profiling#profiling-python-code-with-line_profiler\n",
    "\n",
    "1. Install `line_profiler`:\n",
    "```bash\n",
    "$ pip install line_profiler\n",
    "```\n",
    "\n",
    "2. Decorate every function you want to profile\n",
    "```python\n",
    "@profile\n",
    "def thing():\n",
    "    size = 100000\n",
    "    [1 for _ in range(size)]\n",
    "```\n",
    "\n",
    "3. Run the script using `kernprof` in the terminal:\n",
    "```bash\n",
    "$ kernprof -l -v script.py\n",
    "```\n"
   ]
  },
  {
   "cell_type": "code",
   "execution_count": null,
   "metadata": {},
   "outputs": [],
   "source": []
  }
 ],
 "metadata": {
  "kernelspec": {
   "display_name": "Python 3",
   "language": "python",
   "name": "python3"
  },
  "language_info": {
   "codemirror_mode": {
    "name": "ipython",
    "version": 3
   },
   "file_extension": ".py",
   "mimetype": "text/x-python",
   "name": "python",
   "nbconvert_exporter": "python",
   "pygments_lexer": "ipython3",
   "version": "3.6.8"
  }
 },
 "nbformat": 4,
 "nbformat_minor": 2
}
