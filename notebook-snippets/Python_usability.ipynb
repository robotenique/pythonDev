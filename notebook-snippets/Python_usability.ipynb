{
 "cells": [
  {
   "cell_type": "code",
   "execution_count": 9,
   "metadata": {
    "ExecuteTime": {
     "end_time": "2019-07-10T16:58:55.848457Z",
     "start_time": "2019-07-10T16:58:55.845522Z"
    }
   },
   "outputs": [],
   "source": [
    "from IPython.core.interactiveshell import InteractiveShell #display full output instead of just the last one\n",
    "InteractiveShell.ast_node_interactivity = \"all\""
   ]
  },
  {
   "cell_type": "markdown",
   "metadata": {
    "heading_collapsed": true
   },
   "source": [
    "### 1. Python - profile a function"
   ]
  },
  {
   "cell_type": "markdown",
   "metadata": {
    "hidden": true
   },
   "source": [
    "Define a decorator for a function"
   ]
  },
  {
   "cell_type": "code",
   "execution_count": 1,
   "metadata": {
    "ExecuteTime": {
     "end_time": "2019-05-22T14:13:37.105906Z",
     "start_time": "2019-05-22T14:13:37.099806Z"
    },
    "hidden": true
   },
   "outputs": [],
   "source": [
    "import cProfile\n",
    "\n",
    "def profileit(filename):\n",
    "    def inner(func):\n",
    "        def wrapper(*args, **kwargs):\n",
    "            prof = cProfile.Profile()\n",
    "            retval = prof.runcall(func, *args, **kwargs)\n",
    "            # Note use of name from outer scope\n",
    "            prof.dump_stats(filename)\n",
    "            return retval\n",
    "        return wrapper\n",
    "    return inner\n"
   ]
  },
  {
   "cell_type": "markdown",
   "metadata": {
    "hidden": true
   },
   "source": [
    "Wrap a function with the decorator (it will create a new file for each decorated function)"
   ]
  },
  {
   "cell_type": "code",
   "execution_count": 2,
   "metadata": {
    "ExecuteTime": {
     "end_time": "2019-05-22T14:14:41.179789Z",
     "start_time": "2019-05-22T14:13:38.420448Z"
    },
    "hidden": true
   },
   "outputs": [],
   "source": [
    "@profileit(\"log_example\")\n",
    "def example(a: int, b: int):\n",
    "    for _ in range(int(b)):\n",
    "        for _ in range(int(b/5)):\n",
    "            t = a\n",
    "# You need to run the function\n",
    "example(0, 1e5)"
   ]
  },
  {
   "cell_type": "markdown",
   "metadata": {
    "hidden": true
   },
   "source": [
    "Evaluate the function using pstats"
   ]
  },
  {
   "cell_type": "code",
   "execution_count": 3,
   "metadata": {
    "ExecuteTime": {
     "end_time": "2019-05-22T14:14:41.187943Z",
     "start_time": "2019-05-22T14:14:41.182158Z"
    },
    "hidden": true,
    "scrolled": true
   },
   "outputs": [
    {
     "name": "stdout",
     "output_type": "stream",
     "text": [
      "Wed May 22 11:14:41 2019    log_example\n",
      "\n",
      "         2 function calls in 62.755 seconds\n",
      "\n",
      "   Ordered by: internal time\n",
      "\n",
      "   ncalls  tottime  percall  cumtime  percall filename:lineno(function)\n",
      "        1   62.755   62.755   62.755   62.755 <ipython-input-2-7ef09a001284>:1(example)\n",
      "        1    0.000    0.000    0.000    0.000 {method 'disable' of '_lsprof.Profiler' objects}\n",
      "\n",
      "\n",
      "\n",
      "\n",
      "\n"
     ]
    }
   ],
   "source": [
    "import pstats\n",
    "def show_prof(file):\n",
    "    p = pstats.Stats(file)\n",
    "    p.sort_stats('tottime').print_stats(10)\n",
    "for file in [\"log_example\"]:\n",
    "    show_prof(file)\n",
    "    print(\"\\n\\n\")\n"
   ]
  },
  {
   "cell_type": "markdown",
   "metadata": {
    "heading_collapsed": true
   },
   "source": [
    "### 2. Python - profile line by line"
   ]
  },
  {
   "cell_type": "markdown",
   "metadata": {
    "hidden": true
   },
   "source": [
    "Ref: https://nesi.github.io/perf-training/python-scatter/profiling#profiling-python-code-with-line_profiler\n",
    "\n",
    "1. Install `line_profiler`:\n",
    "```bash\n",
    "$ pip install line_profiler\n",
    "```\n",
    "\n",
    "2. Decorate every function you want to profile\n",
    "```python\n",
    "@profile\n",
    "def thing():\n",
    "    size = 100000\n",
    "    [1 for _ in range(size)]\n",
    "```\n",
    "\n",
    "3. Run the script using `kernprof` in the terminal:\n",
    "```bash\n",
    "$ kernprof -l -v script.py\n",
    "```\n"
   ]
  },
  {
   "cell_type": "markdown",
   "metadata": {
    "heading_collapsed": true
   },
   "source": [
    "### 3. Multiple Learners pipeline"
   ]
  },
  {
   "cell_type": "code",
   "execution_count": 1,
   "metadata": {
    "ExecuteTime": {
     "end_time": "2020-05-08T19:07:32.061973Z",
     "start_time": "2020-05-08T19:07:31.198456Z"
    },
    "hidden": true
   },
   "outputs": [
    {
     "name": "stdout",
     "output_type": "stream",
     "text": [
      "(4,)\n",
      "(4,)\n",
      "Running LR\n",
      "0.5\n",
      "Running KNN\n",
      "0.5\n",
      "Running CART\n",
      "0.5\n",
      "Running NB\n",
      "0.5\n",
      "Running SVM\n",
      "0.5\n",
      "Running AB\n",
      "0.5\n",
      "Running GBM\n",
      "0.5\n",
      "Running RF\n",
      "0.5\n",
      "Running ET\n",
      "0.5\n"
     ]
    },
    {
     "name": "stderr",
     "output_type": "stream",
     "text": [
      "/Users/juliano.garcia/miniconda3/envs/gringo-model/lib/python3.6/site-packages/sklearn/feature_extraction/text.py:1089: FutureWarning: Conversion of the second argument of issubdtype from `float` to `np.floating` is deprecated. In future, it will be treated as `np.float64 == np.dtype(float).type`.\n",
      "  if hasattr(X, 'dtype') and np.issubdtype(X.dtype, np.float):\n",
      "/Users/juliano.garcia/miniconda3/envs/gringo-model/lib/python3.6/site-packages/sklearn/feature_extraction/text.py:1089: FutureWarning: Conversion of the second argument of issubdtype from `float` to `np.floating` is deprecated. In future, it will be treated as `np.float64 == np.dtype(float).type`.\n",
      "  if hasattr(X, 'dtype') and np.issubdtype(X.dtype, np.float):\n",
      "/Users/juliano.garcia/miniconda3/envs/gringo-model/lib/python3.6/site-packages/sklearn/feature_extraction/text.py:1089: FutureWarning: Conversion of the second argument of issubdtype from `float` to `np.floating` is deprecated. In future, it will be treated as `np.float64 == np.dtype(float).type`.\n",
      "  if hasattr(X, 'dtype') and np.issubdtype(X.dtype, np.float):\n",
      "/Users/juliano.garcia/miniconda3/envs/gringo-model/lib/python3.6/site-packages/sklearn/feature_extraction/text.py:1089: FutureWarning: Conversion of the second argument of issubdtype from `float` to `np.floating` is deprecated. In future, it will be treated as `np.float64 == np.dtype(float).type`.\n",
      "  if hasattr(X, 'dtype') and np.issubdtype(X.dtype, np.float):\n"
     ]
    }
   ],
   "source": [
    "import toolz as fp\n",
    "from sklearn.naive_bayes import MultinomialNB\n",
    "from sklearn.feature_extraction.text import TfidfVectorizer\n",
    "from sklearn.pipeline import Pipeline\n",
    "from sklearn.metrics import accuracy_score\n",
    "from sklearn.metrics import roc_auc_score\n",
    "\n",
    "from sklearn.linear_model import LogisticRegression\n",
    "from sklearn.tree import DecisionTreeClassifier\n",
    "from sklearn.neighbors import KNeighborsClassifier\n",
    "from sklearn.discriminant_analysis import LinearDiscriminantAnalysis\n",
    "from sklearn.naive_bayes import MultinomialNB\n",
    "from sklearn.svm import SVC\n",
    "from sklearn.ensemble import AdaBoostClassifier\n",
    "from sklearn.ensemble import GradientBoostingClassifier\n",
    "from sklearn.ensemble import RandomForestClassifier\n",
    "from sklearn.ensemble import ExtraTreesClassifier\n",
    "\n",
    "\n",
    "tt_df_train = pd.DataFrame({\n",
    "    \"text\": [\"ola eu sou joao\", \"meu nome é maria\", \"tres tristes tigres para tres tigres felizes\", \"1 2 3 4 arroz com batata\"],\n",
    "    \"target\": [1, 0, 0, 1]\n",
    "})\n",
    "tt_df_test = pd.DataFrame({\n",
    "    \"text\": [\"feliz da vida estou\", \"na cidade triste dos tempos de aurora\"],\n",
    "    \"target\": [1, 0]\n",
    "})\n",
    "tt_text_col = \"text\"\n",
    "tt_target_col = \"target\"\n",
    "new_df = tt_df_train\n",
    "print(new_df[tt_text_col].shape)\n",
    "print(new_df[tt_target_col].shape)\n",
    "\n",
    "@fp.curry\n",
    "def fkl_pipeline(df, clf_obj, clf_name, clf_params, vect_params, text_col, target, prediction_column=\"prediction\"):\n",
    "    vect = TfidfVectorizer(**vect_params)\n",
    "    clf = clf_obj(**clf_params)\n",
    "    vect.fit(df[text_col].values)\n",
    "    sparse_vect = vect.transform(df[text_col].values)\n",
    "    clf.fit(sparse_vect, df[target].values)\n",
    "    def p(new_df):\n",
    "        predict_text_df = new_df[text_col]\n",
    "        predict_sparse_vect = vect.transform(predict_text_df)\n",
    "        col_dict = {prediction_column: clf.predict_proba(predict_sparse_vect)[:, 1]}\n",
    "        return new_df.assign(**col_dict)\n",
    "    options = {\"model\": clf_name,\n",
    "               \"vectorizer\": vect,\n",
    "               \"predict_proba\": lambda x: clf.predict_proba(vect.transform(x))}\n",
    "    return p, p(df), options\n",
    "\n",
    "def build_all_pipelines(vect_params, text_col, target_col):\n",
    "    basedModels = []\n",
    "    basedModels.append(('LR'   , LogisticRegression, {}))\n",
    "    basedModels.append(('KNN'  , KNeighborsClassifier, dict(n_neighbors=2)))\n",
    "    basedModels.append(('CART' , DecisionTreeClassifier, {}))\n",
    "    basedModels.append(('NB'   , MultinomialNB, {}))\n",
    "    basedModels.append(('SVM'  , SVC, dict(probability=True)))\n",
    "    basedModels.append(('AB'   , AdaBoostClassifier, {}))\n",
    "    basedModels.append(('GBM'  , GradientBoostingClassifier, {}))\n",
    "    basedModels.append(('RF'   , RandomForestClassifier, {}))\n",
    "    basedModels.append(('ET'   , ExtraTreesClassifier, {}))\n",
    "    return [{\"pipeline\": fkl_pipeline(clf_obj=model_obj,\n",
    "                         clf_name=model_name,\n",
    "                         clf_params=model_params,\n",
    "                         vect_params=vect_params,\n",
    "                         text_col=text_col,\n",
    "                         target=target_col),\n",
    "             \"model\": model_name} for model_name, model_obj, model_params in basedModels]\n",
    "\n",
    "# Build a specific pipeline\n",
    "pipeline = fkl_pipeline(clf_obj=ExtraTreesClassifier,\n",
    "                        clf_name=\"ET\",\n",
    "                        clf_params={},\n",
    "                        vect_params={},\n",
    "                        text_col=tt_text_col,\n",
    "                        target=tt_target_col)\n",
    "# Build all pipelines\n",
    "all_pipe = build_all_pipelines({}, tt_text_col, tt_target_col)\n",
    "for pdict in all_pipe:\n",
    "    print(f\"Running {pdict['model']}\")\n",
    "    p,new_df, log = pdict[\"pipeline\"](tt_df_train)\n",
    "    y_pred = p(tt_df_test)[\"prediction\"].values\n",
    "    y_test = tt_df_test[tt_target_col].values\n",
    "    print(roc_auc_score(y_test, y_pred))"
   ]
  },
  {
   "cell_type": "markdown",
   "metadata": {
    "heading_collapsed": true
   },
   "source": [
    "### 5. Size of pickled object"
   ]
  },
  {
   "cell_type": "code",
   "execution_count": 2,
   "metadata": {
    "ExecuteTime": {
     "end_time": "2019-07-04T16:09:41.841964Z",
     "start_time": "2019-07-04T16:09:41.817658Z"
    },
    "hidden": true
   },
   "outputs": [
    {
     "name": "stdout",
     "output_type": "stream",
     "text": [
      "------------------------------------------------------------------------\n",
      "/private/var/folders/xt/0cb4dztx1lv244nd3b8p2q1w0000gn/T/tmpp2a_wfki\n",
      "b'total 8\\n0 drwx------    3 juliano.garcia  staff    96B Jul  4 13:09 .\\n0 drwx------@ 377 juliano.garcia  staff    12K Jul  4 13:09 ..\\n8 -rw-r--r--    1 juliano.garcia  staff    21B Jul  4 13:09 thing.pkl\\n'\n",
      "b''\n",
      " Manually calculated (MB): 2.1e-05\n",
      "------------------------------------------------------------------------\n"
     ]
    }
   ],
   "source": [
    "def output_pickle_size(object_to_pickle, name=\"thing\"):\n",
    "    import cloudpickle as cpkl\n",
    "    import tempfile\n",
    "    import os\n",
    "    import subprocess\n",
    "    print(\"------------------------------------------------------------------------\")\n",
    "    temp_dir_path = tempfile.mkdtemp()\n",
    "    temp_output = f\"{name}.pkl\"\n",
    "    os.chdir(temp_dir_path)\n",
    "    cpkl.dump(object_to_pickle, open(temp_output, \"wb\"))\n",
    "    print(os.getcwd())\n",
    "    p = subprocess.Popen(['ls', '-lsah'], stdout=subprocess.PIPE, \n",
    "                                stderr=subprocess.PIPE)\n",
    "\n",
    "    out, err = p.communicate()\n",
    "    print(out)\n",
    "    print(err)\n",
    "    print(f\" Manually calculated (MB): {os.stat(temp_output).st_size/1e6}\")\n",
    "    print(\"------------------------------------------------------------------------\")\n",
    "    \n",
    "output_pickle_size({\"1\":2})"
   ]
  },
  {
   "cell_type": "markdown",
   "metadata": {
    "heading_collapsed": true
   },
   "source": [
    "### 6. Dotdict notation"
   ]
  },
  {
   "cell_type": "code",
   "execution_count": null,
   "metadata": {
    "hidden": true
   },
   "outputs": [],
   "source": [
    "class dotdict(dict):\n",
    "    \"\"\"dot.notation access to dictionary attributes\"\"\"\n",
    "    __getattr__ = dict.get\n",
    "    __setattr__ = dict.__setitem__\n",
    "    __delattr__ = dict.__delitem__"
   ]
  },
  {
   "cell_type": "markdown",
   "metadata": {
    "heading_collapsed": true
   },
   "source": [
    "### 7. How to extract Series made of arrays into dataframe columns"
   ]
  },
  {
   "cell_type": "code",
   "execution_count": 11,
   "metadata": {
    "ExecuteTime": {
     "end_time": "2019-07-10T16:59:21.913900Z",
     "start_time": "2019-07-10T16:59:21.892343Z"
    },
    "hidden": true
   },
   "outputs": [
    {
     "name": "stdout",
     "output_type": "stream",
     "text": [
      "---  before --- \n"
     ]
    },
    {
     "data": {
      "text/html": [
       "<div>\n",
       "<style scoped>\n",
       "    .dataframe tbody tr th:only-of-type {\n",
       "        vertical-align: middle;\n",
       "    }\n",
       "\n",
       "    .dataframe tbody tr th {\n",
       "        vertical-align: top;\n",
       "    }\n",
       "\n",
       "    .dataframe thead th {\n",
       "        text-align: right;\n",
       "    }\n",
       "</style>\n",
       "<table border=\"1\" class=\"dataframe\">\n",
       "  <thead>\n",
       "    <tr style=\"text-align: right;\">\n",
       "      <th></th>\n",
       "      <th>column</th>\n",
       "    </tr>\n",
       "  </thead>\n",
       "  <tbody>\n",
       "    <tr>\n",
       "      <th>0</th>\n",
       "      <td>[0.45380715508991054, 0.15805359233102678, 0.3...</td>\n",
       "    </tr>\n",
       "    <tr>\n",
       "      <th>1</th>\n",
       "      <td>[0.6370909734281631, 0.8086877621351344, 0.818...</td>\n",
       "    </tr>\n",
       "    <tr>\n",
       "      <th>2</th>\n",
       "      <td>[0.947924923168174, 0.7319697369006363, 0.0457...</td>\n",
       "    </tr>\n",
       "    <tr>\n",
       "      <th>3</th>\n",
       "      <td>[0.6354436688118528, 0.5626937175669025, 0.392...</td>\n",
       "    </tr>\n",
       "    <tr>\n",
       "      <th>4</th>\n",
       "      <td>[0.939050395044145, 0.042204941416884134, 0.87...</td>\n",
       "    </tr>\n",
       "  </tbody>\n",
       "</table>\n",
       "</div>"
      ],
      "text/plain": [
       "                                              column\n",
       "0  [0.45380715508991054, 0.15805359233102678, 0.3...\n",
       "1  [0.6370909734281631, 0.8086877621351344, 0.818...\n",
       "2  [0.947924923168174, 0.7319697369006363, 0.0457...\n",
       "3  [0.6354436688118528, 0.5626937175669025, 0.392...\n",
       "4  [0.939050395044145, 0.042204941416884134, 0.87..."
      ]
     },
     "execution_count": 11,
     "metadata": {},
     "output_type": "execute_result"
    },
    {
     "name": "stdout",
     "output_type": "stream",
     "text": [
      "---  after --- \n"
     ]
    },
    {
     "data": {
      "text/html": [
       "<div>\n",
       "<style scoped>\n",
       "    .dataframe tbody tr th:only-of-type {\n",
       "        vertical-align: middle;\n",
       "    }\n",
       "\n",
       "    .dataframe tbody tr th {\n",
       "        vertical-align: top;\n",
       "    }\n",
       "\n",
       "    .dataframe thead th {\n",
       "        text-align: right;\n",
       "    }\n",
       "</style>\n",
       "<table border=\"1\" class=\"dataframe\">\n",
       "  <thead>\n",
       "    <tr style=\"text-align: right;\">\n",
       "      <th></th>\n",
       "      <th>col_extract_0</th>\n",
       "      <th>col_extract_1</th>\n",
       "      <th>col_extract_2</th>\n",
       "    </tr>\n",
       "  </thead>\n",
       "  <tbody>\n",
       "    <tr>\n",
       "      <th>0</th>\n",
       "      <td>0.453807</td>\n",
       "      <td>0.158054</td>\n",
       "      <td>0.375673</td>\n",
       "    </tr>\n",
       "    <tr>\n",
       "      <th>1</th>\n",
       "      <td>0.637091</td>\n",
       "      <td>0.808688</td>\n",
       "      <td>0.818033</td>\n",
       "    </tr>\n",
       "    <tr>\n",
       "      <th>2</th>\n",
       "      <td>0.947925</td>\n",
       "      <td>0.731970</td>\n",
       "      <td>0.045735</td>\n",
       "    </tr>\n",
       "    <tr>\n",
       "      <th>3</th>\n",
       "      <td>0.635444</td>\n",
       "      <td>0.562694</td>\n",
       "      <td>0.392792</td>\n",
       "    </tr>\n",
       "    <tr>\n",
       "      <th>4</th>\n",
       "      <td>0.939050</td>\n",
       "      <td>0.042205</td>\n",
       "      <td>0.872930</td>\n",
       "    </tr>\n",
       "  </tbody>\n",
       "</table>\n",
       "</div>"
      ],
      "text/plain": [
       "   col_extract_0  col_extract_1  col_extract_2\n",
       "0       0.453807       0.158054       0.375673\n",
       "1       0.637091       0.808688       0.818033\n",
       "2       0.947925       0.731970       0.045735\n",
       "3       0.635444       0.562694       0.392792\n",
       "4       0.939050       0.042205       0.872930"
      ]
     },
     "execution_count": 11,
     "metadata": {},
     "output_type": "execute_result"
    }
   ],
   "source": [
    "col_prefix = \"col_extract_\"\n",
    "example_df = pd.DataFrame({\"column\":[np.random.random((3, )) for _ in range(10)]})\n",
    "print(\"---  before --- \")\n",
    "example_df.head()\n",
    "\n",
    "values_matrix = np.stack(example_df[\"column\"].values)\n",
    "output_df = example_df.assign(**{\n",
    "    col_prefix + str(i): values_matrix[:, i] for i in range(values_matrix.shape[1])\n",
    "}).drop(columns=\"column\")\n",
    "print(\"---  after --- \")\n",
    "output_df.head()"
   ]
  },
  {
   "cell_type": "markdown",
   "metadata": {
    "heading_collapsed": true
   },
   "source": [
    "### 8. Recursively traverse all keys of multilevel dictionary"
   ]
  },
  {
   "cell_type": "code",
   "execution_count": 1,
   "metadata": {
    "ExecuteTime": {
     "end_time": "2019-07-16T19:38:55.651623Z",
     "start_time": "2019-07-16T19:38:55.643764Z"
    },
    "hidden": true
   },
   "outputs": [],
   "source": [
    "# The base object can be a dict or a list currently\n",
    "def myprint(d, curr_indent=0, max_depth=10):\n",
    "    if curr_indent > max_depth:\n",
    "        return\n",
    "    if isinstance(d, dict):\n",
    "        for k, v in d.items():\n",
    "            print(\"\\t\"*curr_indent + str(k))\n",
    "            myprint(v, curr_indent=curr_indent + 1, max_depth=max_depth)\n",
    "    elif isinstance(d, list):\n",
    "        for l in d:\n",
    "            print(\"\")\n",
    "            myprint(l, curr_indent=curr_indent + 1, max_depth=max_depth)\n",
    "    elif isinstance(d, set):\n",
    "        for l in sorted(d):\n",
    "            print(\"\\t\"*curr_indent + str(l))\n",
    "            myprint(l, curr_indent=curr_indent + 1, max_depth=max_depth)\n"
   ]
  },
  {
   "cell_type": "code",
   "execution_count": 2,
   "metadata": {
    "ExecuteTime": {
     "end_time": "2019-07-16T19:38:56.213591Z",
     "start_time": "2019-07-16T19:38:56.208914Z"
    },
    "hidden": true
   },
   "outputs": [
    {
     "name": "stdout",
     "output_type": "stream",
     "text": [
      "a\n",
      "\ta1\n",
      "\t\ta11\n",
      "\t\ta12\n",
      "b\n",
      "\tb1\n",
      "\t\tb11\n",
      "\t\tb12\n",
      "\tb2\n",
      "\t\tb21\n",
      "\t\tb22\n"
     ]
    }
   ],
   "source": [
    "multilevel_dict = dict(a=dict(a1=dict(a11=1, a12=2)), b=dict(b1=dict(b11=1, b12=2), b2=dict(b21=1, b22=2)))\n",
    "myprint(multilevel_dict)"
   ]
  },
  {
   "cell_type": "markdown",
   "metadata": {
    "heading_collapsed": true
   },
   "source": [
    "### 9. Colorize strings in unix shell"
   ]
  },
  {
   "cell_type": "code",
   "execution_count": 3,
   "metadata": {
    "ExecuteTime": {
     "end_time": "2019-08-04T17:15:13.023232Z",
     "start_time": "2019-08-04T17:15:13.017240Z"
    },
    "hidden": true
   },
   "outputs": [],
   "source": [
    "class colorize():\n",
    "    \"\"\"colorize strings in a bash shell\"\"\"\n",
    "    def red(text):\n",
    "        return f\"\\033[1;91m{text}\\033[39m\"\n",
    "\n",
    "    def green(text):\n",
    "        return f\"\\033[1;92m{text}\\033[39m\"\n",
    "\n",
    "    def yellow(text):\n",
    "        return f\"\\033[1;93m{text}\\033[39m\"\n",
    "\n",
    "    def blue(text):\n",
    "        return f\"\\033[1;94m{text}\\033[39m\"\n",
    "\n",
    "    def magenta(text):\n",
    "        return f\"\\033[1;95m{text}\\033[39m\"\n",
    "\n",
    "    def cyan(text):\n",
    "        return f\"\\033[1;96m{text}\\033[39m\"\n",
    "\n",
    "    def white(text):\n",
    "        return f\"\\033[1;97m{text}\\033[39m\""
   ]
  },
  {
   "cell_type": "code",
   "execution_count": 6,
   "metadata": {
    "ExecuteTime": {
     "end_time": "2019-08-04T17:15:25.586272Z",
     "start_time": "2019-08-04T17:15:25.582828Z"
    },
    "hidden": true,
    "scrolled": true
   },
   "outputs": [
    {
     "name": "stdout",
     "output_type": "stream",
     "text": [
      "\u001b[1;91moi\u001b[39m\n"
     ]
    }
   ],
   "source": [
    "print(colorize.red(\"oi\"))"
   ]
  },
  {
   "cell_type": "markdown",
   "metadata": {
    "heading_collapsed": true
   },
   "source": [
    "### 9. Goodness of fit - main distribution\n",
    "\n",
    "Using chi-square test. Be mindful of chi-square assumptions (independent data, etc)"
   ]
  },
  {
   "cell_type": "code",
   "execution_count": 17,
   "metadata": {
    "ExecuteTime": {
     "end_time": "2020-05-08T19:17:36.223629Z",
     "start_time": "2020-05-08T19:17:36.214155Z"
    },
    "hidden": true
   },
   "outputs": [],
   "source": [
    "def goodness_of_fit_chisquare(vals, dist_names=None, num_of_percentile_bins=21):\n",
    "    import scipy\n",
    "    if dist_names is None:\n",
    "        dist_names = [\"weibull_min\",\"norm\",\"weibull_max\",\"beta\",\n",
    "                      \"invgauss\",\"uniform\",\"gamma\",\"expon\",\n",
    "                      \"lognorm\",\"pearson3\", \"triang\"]\n",
    "\n",
    "    chi_square_statistics = []\n",
    "    percentile_bins = np.linspace(0, 100, num_of_percentile_bins)\n",
    "    percentile_cutoffs = np.percentile(vals, percentile_bins)\n",
    "    observed_frequency, bins = (np.histogram(vals, bins=percentile_cutoffs))\n",
    "    cum_observed_frequency = np.cumsum(observed_frequency)\n",
    "    # Loop through candidate distributions\n",
    "    for distribution in dist_names:\n",
    "        # Set up distribution and get fitted distribution parameters\n",
    "        dist = getattr(scipy.stats, distribution)\n",
    "        param = dist.fit(vals)\n",
    "        print(\"{}\\n{}\\n\".format(dist, param))\n",
    "        # Get expected counts in percentile bins\n",
    "        # cdf of fitted distribution across bins\n",
    "        cdf_fitted = dist.cdf(percentile_cutoffs, *param)\n",
    "        expected_frequency = []\n",
    "        for bin in range(len(percentile_bins)-1):\n",
    "            expected_cdf_area = cdf_fitted[bin+1] - cdf_fitted[bin]\n",
    "            expected_frequency.append(expected_cdf_area)\n",
    "\n",
    "        # Chi-square Statistics\n",
    "        expected_frequency = np.array(expected_frequency) * len(vals)\n",
    "        cum_expected_frequency = np.cumsum(expected_frequency)\n",
    "        # let's avoid frequency with zeros...\n",
    "        if any((x < 1e-6 for x in cum_observed_frequency)):\n",
    "            print(\"WARNING: SOME OF YOUR DATA HAS FREQ of 0! try to fix this!\")\n",
    "        ss = np.nansum(((cum_expected_frequency - cum_observed_frequency) ** 2) / cum_observed_frequency)\n",
    "        chi_square_statistics.append(ss)\n",
    "\n",
    "\n",
    "    #Sort by minimum ch-square statistics\n",
    "    results = pd.DataFrame()\n",
    "    results['Distribution'] = dist_names\n",
    "    results['chi_square'] = chi_square_statistics\n",
    "    results.sort_values(['chi_square'], inplace=True)\n",
    "\n",
    "\n",
    "    print ('\\nDistributions listed by Goodness of fit:')\n",
    "    print ('............................................')\n",
    "    print (results)\n",
    "    return results\n"
   ]
  },
  {
   "cell_type": "markdown",
   "metadata": {
    "hidden": true
   },
   "source": [
    "Application"
   ]
  },
  {
   "cell_type": "code",
   "execution_count": 22,
   "metadata": {
    "ExecuteTime": {
     "end_time": "2020-05-08T19:21:08.807989Z",
     "start_time": "2020-05-08T19:21:08.614752Z"
    },
    "hidden": true
   },
   "outputs": [
    {
     "data": {
      "text/plain": [
       "<matplotlib.axes._subplots.AxesSubplot at 0x11fa51198>"
      ]
     },
     "execution_count": 22,
     "metadata": {},
     "output_type": "execute_result"
    },
    {
     "data": {
      "image/png": "[encoded data removed]",
      "text/plain": [
       "<matplotlib.figure.Figure at 0x11f63f240>"
      ]
     },
     "metadata": {},
     "output_type": "display_data"
    }
   ],
   "source": [
    "from scipy import stats\n",
    "import matplotlib.pyplot as plt\n",
    "%matplotlib inline\n",
    "import seaborn as sns\n",
    "np.random.seed(seed=42)\n",
    "sns.set()\n",
    "my_variable_vals = stats.norm.rvs(loc=50, scale=10, size=100)+np.random.randint(10, 30, (100))\n",
    "sns.distplot(my_variable_vals, hist=None)"
   ]
  },
  {
   "cell_type": "code",
   "execution_count": 23,
   "metadata": {
    "ExecuteTime": {
     "end_time": "2020-05-08T19:21:11.306743Z",
     "start_time": "2020-05-08T19:21:10.754032Z"
    },
    "hidden": true
   },
   "outputs": [
    {
     "name": "stdout",
     "output_type": "stream",
     "text": [
      "<scipy.stats._continuous_distns.weibull_min_gen object at 0x11d1b7e48>\n",
      "(0.26393349939568844, 37.802548959102545, 1.487676730898348)\n",
      "\n",
      "<scipy.stats._continuous_distns.norm_gen object at 0x11d12f400>\n",
      "(68.33153482605907, 11.057667422227732)\n",
      "\n",
      "<scipy.stats._continuous_distns.weibull_max_gen object at 0x11d1cb128>\n",
      "(0.2672180121466247, 93.23029856408027, 1.3638983943482386)\n",
      "\n",
      "<scipy.stats._continuous_distns.beta_gen object at 0x11d12fb00>\n",
      "(13.497261193884889, 7.433631705996732, -1.4714782787799994, 108.24637229202767)\n",
      "\n",
      "<scipy.stats._continuous_distns.invgauss_gen object at 0x11d1f9438>\n",
      "(0.030640133945062764, 0.8851207006607069, 2189.175223423026)\n",
      "\n",
      "<scipy.stats._continuous_distns.uniform_gen object at 0x11d24a240>\n",
      "(37.80254895910255, 55.427749604977706)\n",
      "\n",
      "<scipy.stats._continuous_distns.gamma_gen object at 0x11d1e56d8>\n",
      "(346.76114556646894, -139.75987282245183, 0.6000087666849256)\n",
      "\n",
      "<scipy.stats._continuous_distns.expon_gen object at 0x11d148a20>\n",
      "(37.80254895910255, 30.528985866956518)\n",
      "\n",
      "<scipy.stats._continuous_distns.lognorm_gen object at 0x11d214438>\n",
      "(3.3994640953384767, 37.80253690506444, 1.2597613917289157)\n",
      "\n",
      "<scipy.stats._continuous_distns.pearson3_gen object at 0x11d22e8d0>\n",
      "(-0.29906076977183027, 68.33155840561633, 11.068243566663472)\n",
      "\n",
      "<scipy.stats._continuous_distns.triang_gen object at 0x11d241780>\n",
      "(0.6439829510443277, 36.26466070815907, 58.31309205658908)\n",
      "\n",
      "\n",
      "Distributions listed by Goodness of fit:\n",
      "............................................\n",
      "   Distribution   chi_square\n",
      "3          beta     1.783657\n",
      "1          norm     2.447518\n",
      "6         gamma     3.174421\n",
      "10       triang     7.578480\n",
      "4      invgauss    11.586138\n",
      "5       uniform   149.817303\n",
      "7         expon   417.628602\n",
      "2   weibull_max   758.787636\n",
      "8       lognorm  2220.202609\n",
      "0   weibull_min  2797.759282\n",
      "9      pearson3  4133.702030\n"
     ]
    },
    {
     "data": {
      "text/html": [
       "<div>\n",
       "<style scoped>\n",
       "    .dataframe tbody tr th:only-of-type {\n",
       "        vertical-align: middle;\n",
       "    }\n",
       "\n",
       "    .dataframe tbody tr th {\n",
       "        vertical-align: top;\n",
       "    }\n",
       "\n",
       "    .dataframe thead th {\n",
       "        text-align: right;\n",
       "    }\n",
       "</style>\n",
       "<table border=\"1\" class=\"dataframe\">\n",
       "  <thead>\n",
       "    <tr style=\"text-align: right;\">\n",
       "      <th></th>\n",
       "      <th>Distribution</th>\n",
       "      <th>chi_square</th>\n",
       "    </tr>\n",
       "  </thead>\n",
       "  <tbody>\n",
       "    <tr>\n",
       "      <th>3</th>\n",
       "      <td>beta</td>\n",
       "      <td>1.783657</td>\n",
       "    </tr>\n",
       "    <tr>\n",
       "      <th>1</th>\n",
       "      <td>norm</td>\n",
       "      <td>2.447518</td>\n",
       "    </tr>\n",
       "    <tr>\n",
       "      <th>6</th>\n",
       "      <td>gamma</td>\n",
       "      <td>3.174421</td>\n",
       "    </tr>\n",
       "    <tr>\n",
       "      <th>10</th>\n",
       "      <td>triang</td>\n",
       "      <td>7.578480</td>\n",
       "    </tr>\n",
       "    <tr>\n",
       "      <th>4</th>\n",
       "      <td>invgauss</td>\n",
       "      <td>11.586138</td>\n",
       "    </tr>\n",
       "    <tr>\n",
       "      <th>5</th>\n",
       "      <td>uniform</td>\n",
       "      <td>149.817303</td>\n",
       "    </tr>\n",
       "    <tr>\n",
       "      <th>7</th>\n",
       "      <td>expon</td>\n",
       "      <td>417.628602</td>\n",
       "    </tr>\n",
       "    <tr>\n",
       "      <th>2</th>\n",
       "      <td>weibull_max</td>\n",
       "      <td>758.787636</td>\n",
       "    </tr>\n",
       "    <tr>\n",
       "      <th>8</th>\n",
       "      <td>lognorm</td>\n",
       "      <td>2220.202609</td>\n",
       "    </tr>\n",
       "    <tr>\n",
       "      <th>0</th>\n",
       "      <td>weibull_min</td>\n",
       "      <td>2797.759282</td>\n",
       "    </tr>\n",
       "    <tr>\n",
       "      <th>9</th>\n",
       "      <td>pearson3</td>\n",
       "      <td>4133.702030</td>\n",
       "    </tr>\n",
       "  </tbody>\n",
       "</table>\n",
       "</div>"
      ],
      "text/plain": [
       "   Distribution   chi_square\n",
       "3          beta     1.783657\n",
       "1          norm     2.447518\n",
       "6         gamma     3.174421\n",
       "10       triang     7.578480\n",
       "4      invgauss    11.586138\n",
       "5       uniform   149.817303\n",
       "7         expon   417.628602\n",
       "2   weibull_max   758.787636\n",
       "8       lognorm  2220.202609\n",
       "0   weibull_min  2797.759282\n",
       "9      pearson3  4133.702030"
      ]
     },
     "execution_count": 23,
     "metadata": {},
     "output_type": "execute_result"
    }
   ],
   "source": [
    "goodness_of_fit_chisquare(my_variable_vals)"
   ]
  },
  {
   "cell_type": "code",
   "execution_count": 28,
   "metadata": {
    "ExecuteTime": {
     "end_time": "2020-05-08T19:22:51.274938Z",
     "start_time": "2020-05-08T19:22:51.018858Z"
    },
    "hidden": true
   },
   "outputs": [
    {
     "data": {
      "text/plain": [
       "<matplotlib.axes._subplots.AxesSubplot at 0x11ffa58d0>"
      ]
     },
     "execution_count": 28,
     "metadata": {},
     "output_type": "execute_result"
    },
    {
     "data": {
      "image/png": "[encoded data removed]",
      "text/plain": [
       "<matplotlib.figure.Figure at 0x11ffa0710>"
      ]
     },
     "metadata": {},
     "output_type": "display_data"
    }
   ],
   "source": [
    "sns.distplot(stats.beta(13.497261193884889, 7.433631705996732, -1.4714782787799994, 108.24637229202767).rvs(size=80000), hist=None, color=\"red\", label=\"best fit\")\n",
    "sns.distplot(my_variable_vals, hist=None, label=\"true data\") \n",
    "sns.distplot(stats.norm.rvs(loc=50, scale=10, size=100), color=\"green\", label=\"theoretical normal\", hist=None)"
   ]
  },
  {
   "cell_type": "markdown",
   "metadata": {
    "heading_collapsed": true
   },
   "source": [
    "### 10. Difference Between Dictionaries"
   ]
  },
  {
   "cell_type": "code",
   "execution_count": null,
   "metadata": {
    "hidden": true
   },
   "outputs": [],
   "source": [
    "def findDiff(d1, d2, path=\"\"):\n",
    "    for k in d1:\n",
    "        if (k not in d2):\n",
    "            print (path, \":\")\n",
    "            print (k + \" as key not in d2\", \"\\n\")\n",
    "        else:\n",
    "            if type(d1[k]) is dict:\n",
    "                if path == \"\":\n",
    "                    path = k\n",
    "                else:\n",
    "                    path = path + \"->\" + k\n",
    "                findDiff(d1[k], d2[k], path)\n",
    "            else:\n",
    "                if d1[k] != d2[k]:\n",
    "                    print (path, \":\")\n",
    "                    print (\" - \", k,\" : \", d1[k])\n",
    "                    print (\" + \", k,\" : \", d2[k])\n"
   ]
  },
  {
   "cell_type": "markdown",
   "metadata": {},
   "source": [
    "### 11. Order s3 by date"
   ]
  },
  {
   "cell_type": "code",
   "execution_count": 2,
   "metadata": {
    "ExecuteTime": {
     "end_time": "2020-05-18T19:47:52.086828Z",
     "start_time": "2020-05-18T19:47:52.083918Z"
    }
   },
   "outputs": [],
   "source": [
    "import boto3\n",
    "import pandas as pd\n",
    "s3 = boto3.client('s3')\n",
    "objs = s3.list_objects_v2(Bucket='bucket', Prefix='folder1/folder2/')\n",
    "contents_df = pd.DataFrame(contents)\n",
    "contents_df['obj'] = contents_df['Key'].str.split('/').str[2]\n",
    "(contents_df\n",
    " .groupby('obj')['LastModified']\n",
    " .max()\n",
    " .sort_values()\n",
    " .index\n",
    " .tolist())\n",
    "contents = objs['Contents']"
   ]
  },
  {
   "cell_type": "markdown",
   "metadata": {},
   "source": [
    "### 12. Standardized Mean Difference between two groups"
   ]
  },
  {
   "cell_type": "code",
   "execution_count": null,
   "metadata": {},
   "outputs": [],
   "source": [
    "def smd(group_a, group_b, feature):\n",
    "    diff_mean = np.mean(group_a[feature].values) - np.mean(group_b[feature].values)\n",
    "    stds = np.sqrt((np.var(group_a[feature].values, ddof=1) + np.var(group_b[feature].values, ddof=1))/2)\n",
    "    return diff_mean/stds"
   ]
  }
 ],
 "metadata": {
  "hide_input": false,
  "kernelspec": {
   "display_name": "Python 3",
   "language": "python",
   "name": "python3"
  },
  "language_info": {
   "codemirror_mode": {
    "name": "ipython",
    "version": 3
   },
   "file_extension": ".py",
   "mimetype": "text/x-python",
   "name": "python",
   "nbconvert_exporter": "python",
   "pygments_lexer": "ipython3",
   "version": "3.6.11"
  },
  "toc": {
   "base_numbering": 1,
   "nav_menu": {},
   "number_sections": true,
   "sideBar": true,
   "skip_h1_title": false,
   "title_cell": "Table of Contents",
   "title_sidebar": "Contents",
   "toc_cell": false,
   "toc_position": {},
   "toc_section_display": true,
   "toc_window_display": false
  }
 },
 "nbformat": 4,
 "nbformat_minor": 2
}
