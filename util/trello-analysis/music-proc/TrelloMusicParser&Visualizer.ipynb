{
 "cells": [
  {
   "cell_type": "markdown",
   "metadata": {},
   "source": [
    "## Data Import"
   ]
  },
  {
   "cell_type": "code",
   "execution_count": null,
   "metadata": {},
   "outputs": [],
   "source": [
    "import toolz as fp\n",
    "import plotly.express as px\n",
    "import pandas as pd\n",
    "import numpy as np\n",
    "from trello_music_board_processor import general_trello_music_pipeline, cards_to_dataframe, build_creation_at_data\n",
    "\n",
    "json_file = \"trello_music_board_data_backup_2023_11_20.json\"\n",
    "list_mapper, cards_by_list, cleaned_data = general_trello_music_pipeline(json_file)\n",
    "cards_df = fp.pipe(\n",
    "    cards_by_list,\n",
    "    cards_to_dataframe,\n",
    "    build_creation_at_data(board_id=cleaned_data[\"id\"])\n",
    ")\n",
    "cards_df.shape"
   ]
  },
  {
   "cell_type": "markdown",
   "metadata": {},
   "source": [
    "## Functions"
   ]
  },
  {
   "cell_type": "code",
   "execution_count": null,
   "metadata": {},
   "outputs": [],
   "source": [
    "# Function to calculate RMSD\n",
    "def calculate_rmsd(observed_counts, expected_frequencies):\n",
    "    observed_probabilities = observed_counts / observed_counts.sum()\n",
    "    rmsd = np.sqrt(((observed_probabilities - expected_frequencies) ** 2).mean())\n",
    "    return rmsd"
   ]
  },
  {
   "cell_type": "code",
   "execution_count": null,
   "metadata": {},
   "outputs": [],
   "source": [
    "def calculate_normalized_rmsd_list(cards_df):\n",
    "    cards_df[\"stars\"] = pd.to_numeric(cards_df.query(\"list_name != 'Want to'\")[\"stars\"], errors=\"coerce\")\n",
    "    cards_df.dropna(subset=[\"stars\"], inplace=True)\n",
    "    mean_rating = cards_df[\"stars\"].mean()\n",
    "    std_rating = cards_df[\"stars\"].std()\n",
    "    ratings = [1, 2, 3, 4, 5]\n",
    "    expected_frequencies = [\n",
    "        (1 / (std_rating * np.sqrt(2 * np.pi))) * np.exp(-0.5 * ((rating - mean_rating) / std_rating) ** 2)\n",
    "        for rating in ratings\n",
    "    ]\n",
    "    # Normalize the expected frequencies so that they sum up to 1 (like a probability distribution)\n",
    "    total_expected = sum(expected_frequencies)\n",
    "    normalized_expected_frequencies = [freq / total_expected for freq in expected_frequencies]\n",
    "\n",
    "    # Calculate the RMSD for each list and store it\n",
    "    list_rmsds = {}\n",
    "    for list_name in cards_df[\"list_name\"].unique():\n",
    "        list_cards = cards_df[cards_df[\"list_name\"] == list_name]\n",
    "        observed_counts = list_cards[\"stars\"].value_counts().reindex(ratings, fill_value=0)\n",
    "        rmsd = calculate_rmsd(observed_counts, normalized_expected_frequencies)\n",
    "        list_rmsds[list_name] = rmsd\n",
    "    # Normalize the RMSD values by dividing by the max RMSD\n",
    "    max_rmsd = max(list_rmsds.values())\n",
    "    normalized_rmsd_list = {list_name: rmsd / max_rmsd for list_name, rmsd in list_rmsds.items()}\n",
    "    return normalized_rmsd_list\n",
    "\n",
    "rmds_list = calculate_normalized_rmsd_list(cards_df)\n",
    "# sort the list by rmsd (ascending)\n",
    "rmds_list = {k: v for k, v in sorted(rmds_list.items(), key=lambda item: item[1], reverse=False)}"
   ]
  },
  {
   "cell_type": "markdown",
   "metadata": {},
   "source": [
    "### General score distribution per list"
   ]
  },
  {
   "cell_type": "code",
   "execution_count": null,
   "metadata": {},
   "outputs": [],
   "source": [
    "# Calculate the count and percentage of each star rating for each list\n",
    "star_counts = cards_df.groupby(['list_name', 'stars']).size().reset_index(name='count').query(\"list_name != 'Want to'\")\n",
    "star_counts['percentage'] = star_counts.groupby('list_name')['count'].transform(lambda x: 100 * x / x.sum())\n",
    "# Add RMSD as a column in the star_counts DataFrame\n",
    "star_counts['rmsd'] = star_counts['list_name'].map(rmds_list)\n",
    "# Convert RMSD to a string and prepare it as a label\n",
    "star_counts['rmsd_label'] = 'RMSD: ' + star_counts['rmsd'].round(2).astype(str)\n",
    "star_counts['percentage_text'] = star_counts['percentage'].round(1).astype(str) + '%'\n",
    "# Now create the bar plot with RMSD labels\n",
    "fig = px.bar(\n",
    "    star_counts,\n",
    "    x='stars',\n",
    "    y='percentage',\n",
    "    color='list_name',\n",
    "    facet_col='list_name',\n",
    "    category_orders={\"stars\": [1, 2, 3, 4, 5, 'No Rating']}, \n",
    "    title='Percentage of Cards per star rating for each list',\n",
    "    labels={'percentage': 'Percentage of Cards', 'list_name': 'List Name', 'stars': 'Star Rating'},\n",
    "    text='percentage_text'\n",
    ")\n",
    "# Update layout to adjust the text on the bars\n",
    "fig.update_traces(texttemplate='%{text}', textposition='outside')\n",
    "\n",
    "\n",
    "# Show the figure\n",
    "fig.show()"
   ]
  },
  {
   "cell_type": "code",
   "execution_count": null,
   "metadata": {},
   "outputs": [],
   "source": [
    "# create the year and month columns  - createdAt column is a string column\n",
    "cards_df[\"created_at_aux\"] = pd.to_datetime(cards_df[\"createdAt\"])\n",
    "cards_df[\"year\"] = cards_df[\"created_at_aux\"].dt.year.astype(str)\n",
    "cards_df[\"month\"] = cards_df[\"created_at_aux\"].dt.month.astype(str)\n",
    "cards_df[\"year_month\"] = cards_df[\"created_at_aux\"].dt.strftime(\"%Y-%m\")"
   ]
  },
  {
   "cell_type": "code",
   "execution_count": null,
   "metadata": {},
   "outputs": [],
   "source": [
    "def rel_pos_by(df, by=\"list_name\"):\n",
    "    df['rn'] = df.sort_values(by=[by, \"pos\"], ascending=[True, False]).groupby(by).cumcount()\n",
    "    df_max_rn = df.groupby(by)['rn'].transform('max')\n",
    "    df['max_rn'] = df_max_rn\n",
    "    df['relative_rank'] = df['rn'] / df['max_rn']\n",
    "    return df"
   ]
  },
  {
   "cell_type": "code",
   "execution_count": null,
   "metadata": {},
   "outputs": [],
   "source": [
    "cards_df = cards_df.pipe(rel_pos_by)"
   ]
  },
  {
   "cell_type": "code",
   "execution_count": null,
   "metadata": {},
   "outputs": [],
   "source": [
    "to_plot_df = cards_df.groupby([\"year_month\"]).size().reset_index().rename(columns={0: \"count\"}).sort_values(by=\"year_month\", ascending=True)\n",
    "fig = px.line(\n",
    "    to_plot_df,\n",
    "    x=\"year_month\",\n",
    "    y=\"count\",\n",
    "    title=\"Number of cards created per month\"\n",
    ")\n",
    "fig.update_layout(width=800)"
   ]
  },
  {
   "cell_type": "code",
   "execution_count": null,
   "metadata": {},
   "outputs": [],
   "source": [
    "import math\n",
    "def order_card_by_and_cut(cards_df, cut=10, mode=\"best\"):\n",
    "    if mode == \"best\":\n",
    "        ascending_order = [False, False]\n",
    "    elif mode == \"worst\":\n",
    "        ascending_order = [True, True]\n",
    "    year_months = sorted(cards_df[\"year_month\"].unique())\n",
    "    outer = []\n",
    "    for ym in year_months:\n",
    "        curr_df = cards_df.query(f\"year_month == '{ym}'\").sort_values(by=[\"stars\", \"relative_rank\"], ascending=ascending_order).head(cut)\n",
    "        # print(f\"Total cards in {ym}: {curr_df.shape[0]}\")\n",
    "        outer.append(curr_df[[\"year_month\", \"year\", \"month\", \"name\", \"stars\", \"relative_rank\"]])\n",
    "    outer_df = pd.concat(outer)\n",
    "    # let's trim the name to be at most 30 characters\n",
    "    outer_df[\"name_abr\"] = outer_df[\"name\"].apply(lambda x: x[:30] + \"...\" if len(x) > 30 else x)\n",
    "    return outer_df"
   ]
  },
  {
   "cell_type": "markdown",
   "metadata": {},
   "source": [
    "### Top 10 charts by Year and Month"
   ]
  },
  {
   "cell_type": "code",
   "execution_count": null,
   "metadata": {},
   "outputs": [],
   "source": [
    "outer_df = order_card_by_and_cut(cards_df, cut=10, mode=\"best\")\n",
    "for year in sorted(cards_df[\"year\"].unique()):\n",
    "    curr_year_df = outer_df.query(f\"year == '{year}'\")\n",
    "    months = curr_year_df.sort_values(by=[\"year_month\"], ascending=True)[\"year_month\"].unique()\n",
    "    print(f\"[TOP 10 CHARTS] - YEAR {year}\\n\\n\")\n",
    "    for ym in months:\n",
    "        print(f\"-------------------- [{ym}] --------------------\")\n",
    "        curr_year_month_df = curr_year_df.query(f\"year_month == '{ym}'\").sort_values(by=[\"stars\", \"relative_rank\"], ascending=[False, False])\n",
    "        (\n",
    "            curr_year_month_df[['name', 'stars']]\n",
    "                .head(10)\n",
    "                .reset_index(drop=True)\n",
    "                .reset_index()\n",
    "                .rename(columns={\"index\": \"RANK\"})\n",
    "                .assign(RANK=lambda x: x.RANK + 1)\n",
    "                .apply(lambda x: print(f\"\\t {int(x['RANK'])}. {x['name']} ({(int(x['stars']))} stars)\"), axis=1)\n",
    "        )\n"
   ]
  },
  {
   "cell_type": "markdown",
   "metadata": {},
   "source": [
    "### Top 10 worst charts by Year and Month"
   ]
  },
  {
   "cell_type": "code",
   "execution_count": null,
   "metadata": {},
   "outputs": [],
   "source": [
    "outer_df = order_card_by_and_cut(cards_df, cut=10, mode=\"worst\")\n",
    "for year in sorted(cards_df[\"year\"].unique()):\n",
    "    curr_year_df = outer_df.query(f\"year == '{year}'\")\n",
    "    months = curr_year_df.sort_values(by=[\"year_month\"], ascending=True)[\"year_month\"].unique()\n",
    "    print(f\"[TOP 10 WORST CHARTS] - YEAR {year}\\n\\n\")\n",
    "    for ym in months:\n",
    "        print(f\"-------------------- [{ym}] --------------------\")\n",
    "        curr_year_month_df = curr_year_df.query(f\"year_month == '{ym}'\").sort_values(by=[\"stars\", \"relative_rank\"], ascending=[True, True])\n",
    "        (\n",
    "            curr_year_month_df[['name', 'stars']]\n",
    "                .head(10)\n",
    "                .reset_index(drop=True)\n",
    "                .reset_index()\n",
    "                .rename(columns={\"index\": \"RANK\"})\n",
    "                .assign(RANK=lambda x: x.RANK + 1)\n",
    "                .apply(lambda x: print(f\"\\t {int(x['RANK'])}. {x['name']} ({(int(x['stars']))} stars)\"), axis=1)\n",
    "        )"
   ]
  },
  {
   "cell_type": "markdown",
   "metadata": {},
   "source": [
    "### Top 10 charts by Year"
   ]
  },
  {
   "cell_type": "code",
   "execution_count": null,
   "metadata": {},
   "outputs": [],
   "source": [
    "mode = \"best\"\n",
    "cut = 10\n",
    "if mode == \"best\":\n",
    "    ascending_order = [False, False]\n",
    "elif mode == \"worst\":\n",
    "    ascending_order = [True, True]\n",
    "def grouped_ordering(g):\n",
    "    return g.sort_values(by=[\"stars\", \"relative_rank\"], ascending=ascending_order)[[\"year_month\", \"year\", \"month\", \"name\", \"stars\", \"relative_rank\"]].head(cut)\n",
    "outer_df = cards_df.groupby(\"year\", group_keys=False).apply(grouped_ordering).reset_index(drop=True)\n",
    "for year in sorted(outer_df[\"year\"].unique()):\n",
    "    curr_year_df = outer_df.query(f\"year == '{year}'\")\n",
    "    print(f\"[TOP 10 BEST CHARTS] - YEAR {year}\\n\")\n",
    "    (\n",
    "        curr_year_df[['name', 'stars']]\n",
    "            .reset_index(drop=True)\n",
    "            .reset_index()\n",
    "            .rename(columns={\"index\": \"RANK\"})\n",
    "            .assign(RANK=lambda x: x.RANK + 1)\n",
    "            .apply(lambda x: print(f\"\\t {int(x['RANK'])}. {x['name']} ({(int(x['stars']))} stars)\"), axis=1)\n",
    "    )\n",
    "    print(\"\")"
   ]
  },
  {
   "cell_type": "markdown",
   "metadata": {},
   "source": [
    "### Top 10 worst charts by Year"
   ]
  },
  {
   "cell_type": "code",
   "execution_count": null,
   "metadata": {},
   "outputs": [],
   "source": [
    "mode = \"worst\"\n",
    "cut = 10\n",
    "if mode == \"best\":\n",
    "    ascending_order = [False, False]\n",
    "elif mode == \"worst\":\n",
    "    ascending_order = [True, True]\n",
    "def grouped_ordering(g):\n",
    "    return g.sort_values(by=[\"stars\", \"relative_rank\"], ascending=ascending_order)[[\"year_month\", \"year\", \"month\", \"name\", \"stars\", \"relative_rank\"]].head(cut)\n",
    "outer_df = cards_df.groupby(\"year\", group_keys=False).apply(grouped_ordering).reset_index(drop=True)\n",
    "for year in sorted(outer_df[\"year\"].unique()):\n",
    "    curr_year_df = outer_df.query(f\"year == '{year}'\")\n",
    "    print(f\"[TOP 10 WORST CHARTS] - YEAR {year}\\n\")\n",
    "    (\n",
    "        curr_year_df[['name', 'stars']]\n",
    "            .reset_index(drop=True)\n",
    "            .reset_index()\n",
    "            .rename(columns={\"index\": \"RANK\"})\n",
    "            .assign(RANK=lambda x: x.RANK + 1)\n",
    "            .apply(lambda x: print(f\"\\t {int(x['RANK'])}. {x['name']} ({(int(x['stars']))} stars)\"), axis=1)\n",
    "    )\n",
    "    print(\"\")"
   ]
  },
  {
   "cell_type": "markdown",
   "metadata": {},
   "source": [
    "### Top 20 by genre"
   ]
  },
  {
   "cell_type": "code",
   "execution_count": null,
   "metadata": {},
   "outputs": [],
   "source": [
    "mode = \"best\"\n",
    "cut = 20\n",
    "\n",
    "if mode == \"best\":\n",
    "    ascending_order = [False, False]\n",
    "elif mode == \"worst\":\n",
    "    ascending_order = [True, True]\n",
    "def grouped_ordering(g):\n",
    "    return g.sort_values(by=[\"stars\", \"relative_rank\"], ascending=ascending_order)[[\"year_month\", \"year\", \"month\", \"name\", \"stars\", \"relative_rank\", \"list_name\"]].head(cut)\n",
    "outer_df = cards_df.groupby(\"list_name\", group_keys=False).apply(grouped_ordering).reset_index(drop=True)\n",
    "for genre in sorted(outer_df[\"list_name\"].unique()):\n",
    "    curr_genre_df = outer_df.query(f\"list_name == '{genre}'\")\n",
    "    print(f\"[TOP {cut} {mode.upper()} CHARTS] - {genre}\\n\")\n",
    "    (\n",
    "        curr_genre_df[['name', 'stars']]\n",
    "            .reset_index(drop=True)\n",
    "            .reset_index()\n",
    "            .rename(columns={\"index\": \"RANK\"})\n",
    "            .assign(RANK=lambda x: x.RANK + 1)\n",
    "            .apply(lambda x: print(f\"\\t {int(x['RANK'])}. {x['name']} ({(int(x['stars']))} stars)\"), axis=1)\n",
    "    )\n",
    "    print(\"\")"
   ]
  },
  {
   "cell_type": "markdown",
   "metadata": {},
   "source": [
    "### Top 20 worst by genre"
   ]
  },
  {
   "cell_type": "code",
   "execution_count": null,
   "metadata": {},
   "outputs": [],
   "source": [
    "mode = \"worst\"\n",
    "cut = 20\n",
    "\n",
    "if mode == \"best\":\n",
    "    ascending_order = [False, False]\n",
    "elif mode == \"worst\":\n",
    "    ascending_order = [True, True]\n",
    "def grouped_ordering(g):\n",
    "    return g.sort_values(by=[\"stars\", \"relative_rank\"], ascending=ascending_order)[[\"year_month\", \"year\", \"month\", \"name\", \"stars\", \"relative_rank\", \"list_name\"]].head(cut)\n",
    "outer_df = cards_df.groupby(\"list_name\", group_keys=False).apply(grouped_ordering).reset_index(drop=True)\n",
    "for genre in sorted(outer_df[\"list_name\"].unique()):\n",
    "    curr_genre_df = outer_df.query(f\"list_name == '{genre}'\")\n",
    "    print(f\"[TOP {cut} {mode.upper()} CHARTS] - {genre}\\n\")\n",
    "    (\n",
    "        curr_genre_df[['name', 'stars']]\n",
    "            .reset_index(drop=True)\n",
    "            .reset_index()\n",
    "            .rename(columns={\"index\": \"RANK\"})\n",
    "            .assign(RANK=lambda x: x.RANK + 1)\n",
    "            .apply(lambda x: print(f\"\\t {int(x['RANK'])}. {x['name']} ({(int(x['stars']))} stars)\"), axis=1)\n",
    "    )\n",
    "    print(\"\")"
   ]
  }
 ],
 "metadata": {
  "kernelspec": {
   "display_name": "data",
   "language": "python",
   "name": "python3"
  },
  "language_info": {
   "codemirror_mode": {
    "name": "ipython",
    "version": 3
   },
   "file_extension": ".py",
   "mimetype": "text/x-python",
   "name": "python",
   "nbconvert_exporter": "python",
   "pygments_lexer": "ipython3",
   "version": "3.8.16"
  }
 },
 "nbformat": 4,
 "nbformat_minor": 2
}
