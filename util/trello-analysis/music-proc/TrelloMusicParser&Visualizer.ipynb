{
 "cells": [
  {
   "cell_type": "markdown",
   "metadata": {},
   "source": [
    "## Data Import"
   ]
  },
  {
   "cell_type": "code",
   "execution_count": 17,
   "metadata": {},
   "outputs": [
    {
     "name": "stdout",
     "output_type": "stream",
     "text": [
      "1. Loading data from trello_music_board_data_backup_2023_11_20.json...\n",
      "2. Removing empty values...\n",
      "3. Processing the lists data...\n",
      "4. Processing the cards data...\n",
      "Done!\n",
      "\t Retrieving data for <= 2020-12-31\n",
      "\t\tTrying to load API info from trello_config.yaml...\n",
      "\t Data retrieved successfully\n",
      "\t Total entries: [0]\n",
      "\t Retrieving data for <= 2021-12-31\n",
      "\t\tTrying to load API info from trello_config.yaml...\n",
      "\t Data retrieved successfully\n",
      "\t Total entries: [122]\n",
      "\t Retrieving data for <= 2022-12-31\n",
      "\t\tTrying to load API info from trello_config.yaml...\n",
      "\t Data retrieved successfully\n",
      "\t Total entries: [305]\n",
      "\t Retrieving data for <= 2023-12-31\n",
      "\t\tTrying to load API info from trello_config.yaml...\n",
      "\t Data retrieved successfully\n",
      "\t Total entries: [428]\n"
     ]
    },
    {
     "data": {
      "text/plain": [
       "(418, 14)"
      ]
     },
     "execution_count": 17,
     "metadata": {},
     "output_type": "execute_result"
    }
   ],
   "source": [
    "import toolz as fp\n",
    "import plotly.express as px\n",
    "import pandas as pd\n",
    "import numpy as np\n",
    "from trello_music_board_processor import general_trello_music_pipeline, cards_to_dataframe, build_creation_at_data\n",
    "\n",
    "json_file = \"trello_music_board_data_backup_2023_11_20.json\"\n",
    "list_mapper, cards_by_list, cleaned_data = general_trello_music_pipeline(json_file)\n",
    "cards_df = fp.pipe(\n",
    "    cards_by_list,\n",
    "    cards_to_dataframe,\n",
    "    build_creation_at_data(board_id=cleaned_data[\"id\"])\n",
    ")\n",
    "cards_df.shape"
   ]
  },
  {
   "cell_type": "markdown",
   "metadata": {},
   "source": [
    "## Functions"
   ]
  },
  {
   "cell_type": "code",
   "execution_count": 2,
   "metadata": {},
   "outputs": [],
   "source": [
    "# Function to calculate RMSD\n",
    "def calculate_rmsd(observed_counts, expected_frequencies):\n",
    "    observed_probabilities = observed_counts / observed_counts.sum()\n",
    "    rmsd = np.sqrt(((observed_probabilities - expected_frequencies) ** 2).mean())\n",
    "    return rmsd"
   ]
  },
  {
   "cell_type": "code",
   "execution_count": 3,
   "metadata": {},
   "outputs": [],
   "source": [
    "def calculate_normalized_rmsd_list(cards_df):\n",
    "    cards_df[\"stars\"] = pd.to_numeric(cards_df.query(\"list_name != 'Want to'\")[\"stars\"], errors=\"coerce\")\n",
    "    cards_df.dropna(subset=[\"stars\"], inplace=True)\n",
    "    mean_rating = cards_df[\"stars\"].mean()\n",
    "    std_rating = cards_df[\"stars\"].std()\n",
    "    ratings = [1, 2, 3, 4, 5]\n",
    "    expected_frequencies = [\n",
    "        (1 / (std_rating * np.sqrt(2 * np.pi))) * np.exp(-0.5 * ((rating - mean_rating) / std_rating) ** 2)\n",
    "        for rating in ratings\n",
    "    ]\n",
    "    # Normalize the expected frequencies so that they sum up to 1 (like a probability distribution)\n",
    "    total_expected = sum(expected_frequencies)\n",
    "    normalized_expected_frequencies = [freq / total_expected for freq in expected_frequencies]\n",
    "\n",
    "    # Calculate the RMSD for each list and store it\n",
    "    list_rmsds = {}\n",
    "    for list_name in cards_df[\"list_name\"].unique():\n",
    "        list_cards = cards_df[cards_df[\"list_name\"] == list_name]\n",
    "        observed_counts = list_cards[\"stars\"].value_counts().reindex(ratings, fill_value=0)\n",
    "        rmsd = calculate_rmsd(observed_counts, normalized_expected_frequencies)\n",
    "        list_rmsds[list_name] = rmsd\n",
    "    # Normalize the RMSD values by dividing by the max RMSD\n",
    "    max_rmsd = max(list_rmsds.values())\n",
    "    normalized_rmsd_list = {list_name: rmsd / max_rmsd for list_name, rmsd in list_rmsds.items()}\n",
    "    return normalized_rmsd_list\n",
    "\n",
    "rmds_list = calculate_normalized_rmsd_list(cards_df)\n",
    "# sort the list by rmsd (ascending)\n",
    "rmds_list = {k: v for k, v in sorted(rmds_list.items(), key=lambda item: item[1], reverse=False)}"
   ]
  },
  {
   "cell_type": "markdown",
   "metadata": {},
   "source": [
    "### General score distribution per list"
   ]
  },
  {
   "cell_type": "code",
   "execution_count": 5,
   "metadata": {},
   "outputs": [],
   "source": [
    "# Calculate the count and percentage of each star rating for each list\n",
    "star_counts = cards_df.groupby(['list_name', 'stars']).size().reset_index(name='count').query(\"list_name != 'Want to'\")\n",
    "star_counts['percentage'] = star_counts.groupby('list_name')['count'].transform(lambda x: 100 * x / x.sum())\n",
    "# Add RMSD as a column in the star_counts DataFrame\n",
    "star_counts['rmsd'] = star_counts['list_name'].map(rmds_list)\n",
    "# Convert RMSD to a string and prepare it as a label\n",
    "star_counts['rmsd_label'] = 'RMSD: ' + star_counts['rmsd'].round(2).astype(str)\n",
    "star_counts['percentage_text'] = star_counts['percentage'].round(1).astype(str) + '%'\n",
    "# Now create the bar plot with RMSD labels\n",
    "fig = px.bar(\n",
    "    star_counts,\n",
    "    x='stars',\n",
    "    y='percentage',\n",
    "    color='list_name',\n",
    "    facet_col='list_name',\n",
    "    category_orders={\"stars\": [1, 2, 3, 4, 5, 'No Rating']}, \n",
    "    title='Percentage of Cards per star rating for each list',\n",
    "    labels={'percentage': 'Percentage of Cards', 'list_name': 'List Name', 'stars': 'Star Rating'},\n",
    "    text='percentage_text'\n",
    ")\n",
    "# Update layout to adjust the text on the bars\n",
    "fig.update_traces(texttemplate='%{text}', textposition='outside')\n",
    "\n",
    "\n",
    "# Show the figure\n",
    "fig.show()"
   ]
  },
  {
   "cell_type": "code",
   "execution_count": 6,
   "metadata": {},
   "outputs": [],
   "source": [
    "# create the year and month columns  - createdAt column is a string column\n",
    "cards_df[\"created_at_aux\"] = pd.to_datetime(cards_df[\"createdAt\"])\n",
    "cards_df[\"year\"] = cards_df[\"created_at_aux\"].dt.year.astype(str)\n",
    "cards_df[\"month\"] = cards_df[\"created_at_aux\"].dt.month.astype(str)\n",
    "cards_df[\"year_month\"] = cards_df[\"created_at_aux\"].dt.strftime(\"%Y-%m\")"
   ]
  },
  {
   "cell_type": "code",
   "execution_count": 7,
   "metadata": {},
   "outputs": [],
   "source": [
    "def rel_pos_by(df, by=\"list_name\"):\n",
    "    df['rn'] = df.sort_values(by=[by, \"pos\"], ascending=[True, False]).groupby(by).cumcount()\n",
    "    df_max_rn = df.groupby(by)['rn'].transform('max')\n",
    "    df['max_rn'] = df_max_rn\n",
    "    df['relative_rank'] = df['rn'] / df['max_rn']\n",
    "    return df"
   ]
  },
  {
   "cell_type": "code",
   "execution_count": 8,
   "metadata": {},
   "outputs": [],
   "source": [
    "cards_df = cards_df.pipe(rel_pos_by)"
   ]
  },
  {
   "cell_type": "code",
   "execution_count": 9,
   "metadata": {},
   "outputs": [],
   "source": [
    "to_plot_df = cards_df.groupby([\"year_month\"]).size().reset_index().rename(columns={0: \"count\"}).sort_values(by=\"year_month\", ascending=True)\n",
    "fig = px.line(\n",
    "    to_plot_df,\n",
    "    x=\"year_month\",\n",
    "    y=\"count\",\n",
    "    title=\"Number of cards created per month\"\n",
    ")\n",
    "fig.update_layout(width=800)"
   ]
  },
  {
   "cell_type": "code",
   "execution_count": 10,
   "metadata": {},
   "outputs": [],
   "source": [
    "import math\n",
    "def order_card_by_and_cut(cards_df, cut=10, mode=\"best\"):\n",
    "    if mode == \"best\":\n",
    "        ascending_order = [False, False]\n",
    "    elif mode == \"worst\":\n",
    "        ascending_order = [True, True]\n",
    "    year_months = sorted(cards_df[\"year_month\"].unique())\n",
    "    outer = []\n",
    "    for ym in year_months:\n",
    "        curr_df = cards_df.query(f\"year_month == '{ym}'\").sort_values(by=[\"stars\", \"relative_rank\"], ascending=ascending_order).head(cut)\n",
    "        # print(f\"Total cards in {ym}: {curr_df.shape[0]}\")\n",
    "        outer.append(curr_df[[\"year_month\", \"year\", \"month\", \"name\", \"stars\", \"relative_rank\"]])\n",
    "    outer_df = pd.concat(outer)\n",
    "    # let's trim the name to be at most 30 characters\n",
    "    outer_df[\"name_abr\"] = outer_df[\"name\"].apply(lambda x: x[:30] + \"...\" if len(x) > 30 else x)\n",
    "    return outer_df"
   ]
  },
  {
   "cell_type": "code",
   "execution_count": 83,
   "metadata": {},
   "outputs": [],
   "source": [
    "# this function does work, but it's not the best visualization method I found...\n",
    "# def plot_by_ym(df, year, facet_col_wrap=3, w=1300, h=2000):\n",
    "#     df = df.query(f\"year == {year}\")\n",
    "#     # if the dataframe is empty, return None and don't plot anything\n",
    "#     if df.shape[0] == 0:\n",
    "#         print(f\"No data for year {year}\")\n",
    "#         return None\n",
    "#     res = px.bar(df, \n",
    "#                 x='stars', \n",
    "#                 y='name_abr', \n",
    "#                 facet_col='year_month', \n",
    "#                 color='stars',\n",
    "#                 category_orders={\"year_month\": sorted(df['year_month'].unique())},\n",
    "#                 title=f\"[{year}] Top 10 Cards per Month by Stars\",\n",
    "#                 labels={'stars': 'Stars', 'name': 'Card Name'},\n",
    "#                 hover_data=[\"name\"],\n",
    "#                 facet_col_wrap=facet_col_wrap)\n",
    "#     for axis in res.layout:\n",
    "#         if axis.startswith('yaxis'):\n",
    "#             res.layout[axis].showticklabels = True\n",
    "#     res.update_layout(showlegend=False, width=w, height=h)  # Hide the legend as it's redundant with many card names\n",
    "#     res.for_each_annotation(lambda a: a.update(text=a.text.split(\"=\")[-1]))  # Simplify facet titles)\n",
    "#     res.update_xaxes(tickangle=-45)  # Rotate x-axis labels for better visibility\n",
    "#     res.update_xaxes(matches=None)\n",
    "#     res.update_yaxes(matches=None)\n",
    "#     num_spaces = 50  # Adjust the number of spaces as needed\n",
    "#     space_str = ' ' * num_spaces\n",
    "#     res.update_yaxes(tickprefix=space_str, tickangle=0)\n",
    "\n",
    "#     res.show()"
   ]
  },
  {
   "cell_type": "markdown",
   "metadata": {},
   "source": [
    "### Top 10 charts by Year and Month"
   ]
  },
  {
   "cell_type": "code",
   "execution_count": 11,
   "metadata": {},
   "outputs": [],
   "source": [
    "outer_df = order_card_by_and_cut(cards_df, cut=10, mode=\"best\")\n",
    "for year in sorted(cards_df[\"year\"].unique()):\n",
    "    curr_year_df = outer_df.query(f\"year == '{year}'\")\n",
    "    months = curr_year_df.sort_values(by=[\"year_month\"], ascending=True)[\"year_month\"].unique()\n",
    "    print(f\"[TOP 10 CHARTS] - YEAR {year}\\n\\n\")\n",
    "    for ym in months:\n",
    "        print(f\"-------------------- [{ym}] --------------------\")\n",
    "        curr_year_month_df = curr_year_df.query(f\"year_month == '{ym}'\").sort_values(by=[\"stars\", \"relative_rank\"], ascending=[False, False])\n",
    "        (\n",
    "            curr_year_month_df[['name', 'stars']]\n",
    "                .head(10)\n",
    "                .reset_index(drop=True)\n",
    "                .reset_index()\n",
    "                .rename(columns={\"index\": \"RANK\"})\n",
    "                .assign(RANK=lambda x: x.RANK + 1)\n",
    "                .apply(lambda x: print(f\"\\t {int(x['RANK'])}. {x['name']} ({(int(x['stars']))} stars)\"), axis=1)\n",
    "        )\n"
   ]
  },
  {
   "cell_type": "markdown",
   "metadata": {},
   "source": [
    "### Top 10 worst charts by Year and Month"
   ]
  },
  {
   "cell_type": "code",
   "execution_count": 12,
   "metadata": {},
   "outputs": [],
   "source": [
    "outer_df = order_card_by_and_cut(cards_df, cut=10, mode=\"worst\")\n",
    "for year in sorted(cards_df[\"year\"].unique()):\n",
    "    curr_year_df = outer_df.query(f\"year == '{year}'\")\n",
    "    months = curr_year_df.sort_values(by=[\"year_month\"], ascending=True)[\"year_month\"].unique()\n",
    "    print(f\"[TOP 10 WORST CHARTS] - YEAR {year}\\n\\n\")\n",
    "    for ym in months:\n",
    "        print(f\"-------------------- [{ym}] --------------------\")\n",
    "        curr_year_month_df = curr_year_df.query(f\"year_month == '{ym}'\").sort_values(by=[\"stars\", \"relative_rank\"], ascending=[True, True])\n",
    "        (\n",
    "            curr_year_month_df[['name', 'stars']]\n",
    "                .head(10)\n",
    "                .reset_index(drop=True)\n",
    "                .reset_index()\n",
    "                .rename(columns={\"index\": \"RANK\"})\n",
    "                .assign(RANK=lambda x: x.RANK + 1)\n",
    "                .apply(lambda x: print(f\"\\t {int(x['RANK'])}. {x['name']} ({(int(x['stars']))} stars)\"), axis=1)\n",
    "        )"
   ]
  },
  {
   "cell_type": "markdown",
   "metadata": {},
   "source": [
    "### Top 10 charts by Year"
   ]
  },
  {
   "cell_type": "code",
   "execution_count": 13,
   "metadata": {},
   "outputs": [],
   "source": [
    "mode = \"best\"\n",
    "cut = 10\n",
    "if mode == \"best\":\n",
    "    ascending_order = [False, False]\n",
    "elif mode == \"worst\":\n",
    "    ascending_order = [True, True]\n",
    "def grouped_ordering(g):\n",
    "    return g.sort_values(by=[\"stars\", \"relative_rank\"], ascending=ascending_order)[[\"year_month\", \"year\", \"month\", \"name\", \"stars\", \"relative_rank\"]].head(cut)\n",
    "outer_df = cards_df.groupby(\"year\", group_keys=False).apply(grouped_ordering).reset_index(drop=True)\n",
    "for year in sorted(outer_df[\"year\"].unique()):\n",
    "    curr_year_df = outer_df.query(f\"year == '{year}'\")\n",
    "    print(f\"[TOP 10 BEST CHARTS] - YEAR {year}\\n\")\n",
    "    (\n",
    "        curr_year_df[['name', 'stars']]\n",
    "            .reset_index(drop=True)\n",
    "            .reset_index()\n",
    "            .rename(columns={\"index\": \"RANK\"})\n",
    "            .assign(RANK=lambda x: x.RANK + 1)\n",
    "            .apply(lambda x: print(f\"\\t {int(x['RANK'])}. {x['name']} ({(int(x['stars']))} stars)\"), axis=1)\n",
    "    )\n",
    "    print(\"\")"
   ]
  },
  {
   "cell_type": "markdown",
   "metadata": {},
   "source": [
    "### Top 10 worst charts by Year"
   ]
  },
  {
   "cell_type": "code",
   "execution_count": 14,
   "metadata": {},
   "outputs": [],
   "source": [
    "mode = \"worst\"\n",
    "cut = 10\n",
    "if mode == \"best\":\n",
    "    ascending_order = [False, False]\n",
    "elif mode == \"worst\":\n",
    "    ascending_order = [True, True]\n",
    "def grouped_ordering(g):\n",
    "    return g.sort_values(by=[\"stars\", \"relative_rank\"], ascending=ascending_order)[[\"year_month\", \"year\", \"month\", \"name\", \"stars\", \"relative_rank\"]].head(cut)\n",
    "outer_df = cards_df.groupby(\"year\", group_keys=False).apply(grouped_ordering).reset_index(drop=True)\n",
    "for year in sorted(outer_df[\"year\"].unique()):\n",
    "    curr_year_df = outer_df.query(f\"year == '{year}'\")\n",
    "    print(f\"[TOP 10 WORST CHARTS] - YEAR {year}\\n\")\n",
    "    (\n",
    "        curr_year_df[['name', 'stars']]\n",
    "            .reset_index(drop=True)\n",
    "            .reset_index()\n",
    "            .rename(columns={\"index\": \"RANK\"})\n",
    "            .assign(RANK=lambda x: x.RANK + 1)\n",
    "            .apply(lambda x: print(f\"\\t {int(x['RANK'])}. {x['name']} ({(int(x['stars']))} stars)\"), axis=1)\n",
    "    )\n",
    "    print(\"\")"
   ]
  },
  {
   "cell_type": "markdown",
   "metadata": {},
   "source": [
    "### Top 20 by genre"
   ]
  },
  {
   "cell_type": "code",
   "execution_count": 15,
   "metadata": {},
   "outputs": [],
   "source": [
    "mode = \"best\"\n",
    "cut = 20\n",
    "\n",
    "if mode == \"best\":\n",
    "    ascending_order = [False, False]\n",
    "elif mode == \"worst\":\n",
    "    ascending_order = [True, True]\n",
    "def grouped_ordering(g):\n",
    "    return g.sort_values(by=[\"stars\", \"relative_rank\"], ascending=ascending_order)[[\"year_month\", \"year\", \"month\", \"name\", \"stars\", \"relative_rank\", \"list_name\"]].head(cut)\n",
    "outer_df = cards_df.groupby(\"list_name\", group_keys=False).apply(grouped_ordering).reset_index(drop=True)\n",
    "for genre in sorted(outer_df[\"list_name\"].unique()):\n",
    "    curr_genre_df = outer_df.query(f\"list_name == '{genre}'\")\n",
    "    print(f\"[TOP {cut} {mode.upper()} CHARTS] - {genre}\\n\")\n",
    "    (\n",
    "        curr_genre_df[['name', 'stars']]\n",
    "            .reset_index(drop=True)\n",
    "            .reset_index()\n",
    "            .rename(columns={\"index\": \"RANK\"})\n",
    "            .assign(RANK=lambda x: x.RANK + 1)\n",
    "            .apply(lambda x: print(f\"\\t {int(x['RANK'])}. {x['name']} ({(int(x['stars']))} stars)\"), axis=1)\n",
    "    )\n",
    "    print(\"\")"
   ]
  },
  {
   "cell_type": "markdown",
   "metadata": {},
   "source": [
    "### Top 20 worst by genre"
   ]
  },
  {
   "cell_type": "code",
   "execution_count": null,
   "metadata": {},
   "outputs": [],
   "source": []
  },
  {
   "cell_type": "code",
   "execution_count": 16,
   "metadata": {},
   "outputs": [],
   "source": [
    "mode = \"worst\"\n",
    "cut = 20\n",
    "\n",
    "if mode == \"best\":\n",
    "    ascending_order = [False, False]\n",
    "elif mode == \"worst\":\n",
    "    ascending_order = [True, True]\n",
    "def grouped_ordering(g):\n",
    "    return g.sort_values(by=[\"stars\", \"relative_rank\"], ascending=ascending_order)[[\"year_month\", \"year\", \"month\", \"name\", \"stars\", \"relative_rank\", \"list_name\"]].head(cut)\n",
    "outer_df = cards_df.groupby(\"list_name\", group_keys=False).apply(grouped_ordering).reset_index(drop=True)\n",
    "for genre in sorted(outer_df[\"list_name\"].unique()):\n",
    "    curr_genre_df = outer_df.query(f\"list_name == '{genre}'\")\n",
    "    print(f\"[TOP {cut} {mode.upper()} CHARTS] - {genre}\\n\")\n",
    "    (\n",
    "        curr_genre_df[['name', 'stars']]\n",
    "            .reset_index(drop=True)\n",
    "            .reset_index()\n",
    "            .rename(columns={\"index\": \"RANK\"})\n",
    "            .assign(RANK=lambda x: x.RANK + 1)\n",
    "            .apply(lambda x: print(f\"\\t {int(x['RANK'])}. {x['name']} ({(int(x['stars']))} stars)\"), axis=1)\n",
    "    )\n",
    "    print(\"\")"
   ]
  }
 ],
 "metadata": {
  "kernelspec": {
   "display_name": "data",
   "language": "python",
   "name": "python3"
  },
  "language_info": {
   "codemirror_mode": {
    "name": "ipython",
    "version": 3
   },
   "file_extension": ".py",
   "mimetype": "text/x-python",
   "name": "python",
   "nbconvert_exporter": "python",
   "pygments_lexer": "ipython3",
   "version": "3.8.16"
  }
 },
 "nbformat": 4,
 "nbformat_minor": 2
}
