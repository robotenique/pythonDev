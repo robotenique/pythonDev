{
 "cells": [
  {
   "cell_type": "code",
   "execution_count": 4,
   "metadata": {
    "collapsed": false
   },
   "outputs": [
    {
     "name": "stdout",
     "output_type": "stream",
     "text": [
      "[<div id=\"reviewtop\"><img alt=\"Piraque Ham Snack\" class=\"reviewpictall\" height=\"243\" src=\"/im/sn/Piraque-Ham.jpg\" width=\"150\"><p class=\"smalllabel extratext\">Snack Review</p><h1>Piraque Ham Snack</h1><p><a href=\"https://www.amazon.com/b/?_encoding=UTF8&amp;camp=1789&amp;creative=9325&amp;linkCode=ur2&amp;node=16322721&amp;pf_rd_i=16310101&amp;pf_rd_m=ATVPDKIKX0DER&amp;pf_rd_p=1711856062&amp;pf_rd_r=0MVHX4BGPRAG0E9R6B5H&amp;pf_rd_s=merchandised-search-3&amp;pf_rd_t=101&amp;tag=taquitosnet-sn-1-20\" rel=\"nofollow\" title=\"buy snacks\">Buy snacks on Amazon</a></p><div class=\"floatingad\"><script async=\"\" src=\"//pagead2.googlesyndication.com/pagead/js/adsbygoogle.js\"></script> <!-- google_test_box --> <ins class=\"adsbygoogle\" data-ad-client=\"ca-pub-4748318384847701\" data-ad-format=\"auto\" data-ad-slot=\"8325353214\" style=\"display:block\"></ins> <script>\r",
      "(adsbygoogle = window.adsbygoogle || []).push({});\r",
      "</script></div><br class=\"extratext\"><p class=\"detail\"><b>Taste test:</b> This bag was chock-full of small crackers shaped sort of like the \"document\" symbol used in flow charts, except that two edges instead of just one were wavy. The crackers had a mild ham taste to them. People around the chip bowl were scared off by the ham flavor in the name, but in reality these crackers were pretty good.</p><p class=\"detail\"><b>Shop:</b> <a href=\"https://www.amazon.com/b/?_encoding=UTF8&amp;camp=1789&amp;creative=9325&amp;linkCode=ur2&amp;node=16322721&amp;pf_rd_i=16310101&amp;pf_rd_m=ATVPDKIKX0DER&amp;pf_rd_p=1711856062&amp;pf_rd_r=0MVHX4BGPRAG0E9R6B5H&amp;pf_rd_s=merchandised-search-3&amp;pf_rd_t=101&amp;tag=taquitosnet-sn-2-20\" rel=\"nofollow\" title=\"buy snacks\">Buy snacks on Amazon</a></p><p class=\"detail\"><b>Smell test:</b> Wow, these really did smell like ham. Good. </p><p class=\"detail\"><b>From the package:</b> \"Store in a cool dry place/Conservar en lugar fresco y seco\" ... \"Made in Brazil by Piraquê\"</p><p class=\"detail\"><b>Online store:</b> <a href=\"https://www.amazon.com/b/?_encoding=UTF8&amp;camp=1789&amp;creative=9325&amp;linkCode=ur2&amp;node=16322721&amp;pf_rd_i=16310101&amp;pf_rd_m=ATVPDKIKX0DER&amp;pf_rd_p=1711856062&amp;pf_rd_r=0MVHX4BGPRAG0E9R6B5H&amp;pf_rd_s=merchandised-search-3&amp;pf_rd_t=101&amp;tag=taquitosnet-sn-3-20\" rel=\"nofollow\" title=\"buy snacks\">Buy snacks on Amazon</a></p><p class=\"detail\"><b>Company:</b> <a href=\"/snacks.php?manuf_code=220\">Indústria de Produtos Alimentícios Piraquê S.A.</a> (<a href=\"/snack_reviews/Brazilian-Snacks\">Brazil</a>)</p><p class=\"detail\"><b>Reviews of similar snacks:</b> </p><ul><li><a href=\"/snack_reviews/Brazilian-Snacks\">Snacks from Brazil</a> (68<span class=\"extratext\"> reviews</span>)</li><li><a href=\"/snacks.php?category_code=106\">Crackers</a> (206<span class=\"extratext\"> snacks</span>)</li><li><a href=\"/snacks.php?category_code=4\">Meat Flavored Chips</a> (95<span class=\"extratext\"> snacks</span>)</li></ul><p class=\"altChoice\"><a href=\"/snacks.php\">All 195 snack categories</a></p><p class=\"altChoice\"><a href=\"/snacks.php?page_code=69\">All 1596 snack companies</a></p><script>\r",
      "amzn_assoc_placement = \"adunit0\";\r",
      "amzn_assoc_enable_interest_ads = \"true\";\r",
      "amzn_assoc_tracking_id = \"snack-contextual-20\";\r",
      "amzn_assoc_ad_mode = \"auto\";\r",
      "amzn_assoc_ad_type = \"smart\";\r",
      "amzn_assoc_marketplace = \"amazon\";\r",
      "amzn_assoc_region = \"US\";\r",
      "amzn_assoc_textlinks = \"\";\r",
      "amzn_assoc_linkid = \"d87b7dd9540647def1404e23b7b53502\";\r",
      "amzn_assoc_emphasize_categories = \"16310101\";\r",
      "amzn_assoc_fallback_mode = {\"type\":\"search\",\"value\":\"snacks\"};\r",
      "amzn_assoc_default_category = \"All\";\r",
      "</script> <script src=\"//z-na.amazon-adsystem.com/widgets/onejs?MarketPlace=US\"></script><p class=\"notes\">This snack was discovered  by <b>Jeremy</b> at <a href=\"/snacks.php?store_code=325\">Gol Supermarket, Shrewsbury, Massachusetts</a>. Review published <script> var pubDate = new Array('Ja','nu','ar','y ','20','05',''); for (i=0;i<pubDate.length;i++) {document.write(pubDate[i]);}</script>.</p><script>\r",
      "document.write('<div class=\"fb-comments\" data-href=\"' + window.location.href + '\" data-num-posts=\"2\" data-width=\"320\"></div>');\r",
      "</script></br></img></div>]\n"
     ]
    }
   ],
   "source": [
    "from bs4 import BeautifulSoup\n",
    "import requests as Req\n",
    "\n",
    "page = Req.get(\"https://www.taquitos.net/snacks.php?snack_code=2508\")\n",
    "soup = BeautifulSoup(page.content, 'html.parser')\n",
    "snack_review = soup.find_all(id=\"reviewtop\")\n"
   ]
  }
 ],
 "metadata": {
  "kernelspec": {
   "display_name": "Python 3",
   "language": "python",
   "name": "python3"
  },
  "language_info": {
   "codemirror_mode": {
    "name": "ipython",
    "version": 3
   },
   "file_extension": ".py",
   "mimetype": "text/x-python",
   "name": "python",
   "nbconvert_exporter": "python",
   "pygments_lexer": "ipython3",
   "version": "3.6.2"
  }
 },
 "nbformat": 4,
 "nbformat_minor": 2
}
